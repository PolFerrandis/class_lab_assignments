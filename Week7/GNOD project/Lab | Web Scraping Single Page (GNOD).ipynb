{
 "cells": [
  {
   "cell_type": "markdown",
   "id": "fefb8d88",
   "metadata": {},
   "source": [
    "# Lab | Web Scraping Single Page"
   ]
  },
  {
   "cell_type": "markdown",
   "id": "40c6811d",
   "metadata": {},
   "source": [
    "## Scraping the top 100 songs\n",
    "\n",
    "We´ll start by going to https://www.billboard.com/charts/hot-100/ and Scraping the current top 100 songs and their respective artist."
   ]
  },
  {
   "cell_type": "code",
   "execution_count": 1,
   "id": "9c8b16ad",
   "metadata": {},
   "outputs": [],
   "source": [
    "# Importing libraries- BeautifulSoup, requests, pandas\n",
    "import pandas as pd\n",
    "from bs4 import BeautifulSoup\n",
    "import re\n",
    "import requests"
   ]
  },
  {
   "cell_type": "code",
   "execution_count": 2,
   "id": "e13fcd12",
   "metadata": {},
   "outputs": [],
   "source": [
    "# Find url and store it in a variable\n",
    "url=\"https://www.billboard.com/charts/hot-100/\""
   ]
  },
  {
   "cell_type": "code",
   "execution_count": 3,
   "id": "766327fd",
   "metadata": {},
   "outputs": [],
   "source": [
    "# download html with a get request\n",
    "response = requests.get(url)"
   ]
  },
  {
   "cell_type": "code",
   "execution_count": 4,
   "id": "a979a796",
   "metadata": {},
   "outputs": [
    {
     "data": {
      "text/plain": [
       "200"
      ]
     },
     "execution_count": 4,
     "metadata": {},
     "output_type": "execute_result"
    }
   ],
   "source": [
    "#check response status code \n",
    "response.status_code"
   ]
  },
  {
   "cell_type": "code",
   "execution_count": 5,
   "id": "8b5f331a",
   "metadata": {},
   "outputs": [],
   "source": [
    "#parse and store the contents of the url call\n",
    "soup=BeautifulSoup(response.content,'html.parser')"
   ]
  },
  {
   "cell_type": "markdown",
   "id": "92ef395d",
   "metadata": {},
   "source": [
    "### Query the soup to get song title and artist"
   ]
  },
  {
   "cell_type": "code",
   "execution_count": 6,
   "id": "eac17084",
   "metadata": {},
   "outputs": [
    {
     "data": {
      "text/plain": [
       "\"All Too Well (Taylor's Version)\""
      ]
     },
     "execution_count": 6,
     "metadata": {},
     "output_type": "execute_result"
    }
   ],
   "source": [
    "# getting song title\n",
    "\n",
    "soup.select('h3.c-title.a-no-trucate')[0].get_text(strip=True)"
   ]
  },
  {
   "cell_type": "code",
   "execution_count": 7,
   "id": "4afa6241",
   "metadata": {},
   "outputs": [
    {
     "data": {
      "text/plain": [
       "'Taylor Swift'"
      ]
     },
     "execution_count": 7,
     "metadata": {},
     "output_type": "execute_result"
    }
   ],
   "source": [
    "# getting artist\n",
    "\n",
    "soup.select('span.c-label.a-font-primary-s')[0].get_text(strip=True)"
   ]
  },
  {
   "cell_type": "code",
   "execution_count": 8,
   "id": "9f237e5a",
   "metadata": {},
   "outputs": [
    {
     "data": {
      "text/plain": [
       "100"
      ]
     },
     "execution_count": 8,
     "metadata": {},
     "output_type": "execute_result"
    }
   ],
   "source": [
    "songs = len(soup.select('h3.c-title.a-no-trucate'))\n",
    "songs"
   ]
  },
  {
   "cell_type": "code",
   "execution_count": 9,
   "id": "11a64341",
   "metadata": {},
   "outputs": [],
   "source": [
    "from tqdm.notebook import tqdm"
   ]
  },
  {
   "cell_type": "code",
   "execution_count": 10,
   "id": "403e614f",
   "metadata": {},
   "outputs": [
    {
     "data": {
      "application/vnd.jupyter.widget-view+json": {
       "model_id": "013890128126498f8039bc8c24e89cfb",
       "version_major": 2,
       "version_minor": 0
      },
      "text/plain": [
       "  0%|          | 0/100 [00:00<?, ?it/s]"
      ]
     },
     "metadata": {},
     "output_type": "display_data"
    }
   ],
   "source": [
    "song=[]\n",
    "artist=[]\n",
    "last_week=[]\n",
    "peak_list=[]\n",
    "weeks_on_chart=[]\n",
    "\n",
    "for i in tqdm (range(songs)):\n",
    "    song.append(soup.select('h3.c-title.a-no-trucate')[i].get_text(strip=True))\n",
    "    artist.append(soup.select('span.c-label.a-font-primary-s')[i].get_text(strip=True))"
   ]
  },
  {
   "cell_type": "code",
   "execution_count": 11,
   "id": "b6ec93de",
   "metadata": {},
   "outputs": [],
   "source": [
    "songsdf = pd.DataFrame({'song':song,'artist':artist})"
   ]
  },
  {
   "cell_type": "code",
   "execution_count": 12,
   "id": "bd1fe7a0",
   "metadata": {},
   "outputs": [
    {
     "data": {
      "text/html": [
       "<div>\n",
       "<style scoped>\n",
       "    .dataframe tbody tr th:only-of-type {\n",
       "        vertical-align: middle;\n",
       "    }\n",
       "\n",
       "    .dataframe tbody tr th {\n",
       "        vertical-align: top;\n",
       "    }\n",
       "\n",
       "    .dataframe thead th {\n",
       "        text-align: right;\n",
       "    }\n",
       "</style>\n",
       "<table border=\"1\" class=\"dataframe\">\n",
       "  <thead>\n",
       "    <tr style=\"text-align: right;\">\n",
       "      <th></th>\n",
       "      <th>song</th>\n",
       "      <th>artist</th>\n",
       "    </tr>\n",
       "  </thead>\n",
       "  <tbody>\n",
       "    <tr>\n",
       "      <th>0</th>\n",
       "      <td>All Too Well (Taylor's Version)</td>\n",
       "      <td>Taylor Swift</td>\n",
       "    </tr>\n",
       "    <tr>\n",
       "      <th>1</th>\n",
       "      <td>Easy On Me</td>\n",
       "      <td>Adele</td>\n",
       "    </tr>\n",
       "    <tr>\n",
       "      <th>2</th>\n",
       "      <td>Stay</td>\n",
       "      <td>The Kid LAROI &amp; Justin Bieber</td>\n",
       "    </tr>\n",
       "    <tr>\n",
       "      <th>3</th>\n",
       "      <td>Industry Baby</td>\n",
       "      <td>Lil Nas X &amp; Jack Harlow</td>\n",
       "    </tr>\n",
       "    <tr>\n",
       "      <th>4</th>\n",
       "      <td>Smokin Out The Window</td>\n",
       "      <td>Silk Sonic (Bruno Mars &amp; Anderson .Paak)</td>\n",
       "    </tr>\n",
       "  </tbody>\n",
       "</table>\n",
       "</div>"
      ],
      "text/plain": [
       "                              song                                    artist\n",
       "0  All Too Well (Taylor's Version)                              Taylor Swift\n",
       "1                       Easy On Me                                     Adele\n",
       "2                             Stay             The Kid LAROI & Justin Bieber\n",
       "3                    Industry Baby                   Lil Nas X & Jack Harlow\n",
       "4            Smokin Out The Window  Silk Sonic (Bruno Mars & Anderson .Paak)"
      ]
     },
     "execution_count": 12,
     "metadata": {},
     "output_type": "execute_result"
    }
   ],
   "source": [
    "songsdf.head()"
   ]
  },
  {
   "cell_type": "code",
   "execution_count": 13,
   "id": "d854c37d",
   "metadata": {},
   "outputs": [],
   "source": [
    "songsdf['rank'] = songsdf.index+1"
   ]
  },
  {
   "cell_type": "code",
   "execution_count": 14,
   "id": "d2639dad",
   "metadata": {
    "scrolled": true
   },
   "outputs": [
    {
     "name": "stdout",
     "output_type": "stream",
     "text": [
      "<class 'pandas.core.frame.DataFrame'>\n",
      "RangeIndex: 100 entries, 0 to 99\n",
      "Data columns (total 3 columns):\n",
      " #   Column  Non-Null Count  Dtype \n",
      "---  ------  --------------  ----- \n",
      " 0   song    100 non-null    object\n",
      " 1   artist  100 non-null    object\n",
      " 2   rank    100 non-null    int64 \n",
      "dtypes: int64(1), object(2)\n",
      "memory usage: 2.5+ KB\n"
     ]
    }
   ],
   "source": [
    "songsdf.info()"
   ]
  },
  {
   "cell_type": "code",
   "execution_count": 15,
   "id": "57781c29",
   "metadata": {},
   "outputs": [
    {
     "data": {
      "text/html": [
       "<div>\n",
       "<style scoped>\n",
       "    .dataframe tbody tr th:only-of-type {\n",
       "        vertical-align: middle;\n",
       "    }\n",
       "\n",
       "    .dataframe tbody tr th {\n",
       "        vertical-align: top;\n",
       "    }\n",
       "\n",
       "    .dataframe thead th {\n",
       "        text-align: right;\n",
       "    }\n",
       "</style>\n",
       "<table border=\"1\" class=\"dataframe\">\n",
       "  <thead>\n",
       "    <tr style=\"text-align: right;\">\n",
       "      <th></th>\n",
       "      <th>song</th>\n",
       "      <th>artist</th>\n",
       "      <th>rank</th>\n",
       "    </tr>\n",
       "  </thead>\n",
       "  <tbody>\n",
       "    <tr>\n",
       "      <th>0</th>\n",
       "      <td>All Too Well (Taylor's Version)</td>\n",
       "      <td>Taylor Swift</td>\n",
       "      <td>1</td>\n",
       "    </tr>\n",
       "    <tr>\n",
       "      <th>1</th>\n",
       "      <td>Easy On Me</td>\n",
       "      <td>Adele</td>\n",
       "      <td>2</td>\n",
       "    </tr>\n",
       "    <tr>\n",
       "      <th>2</th>\n",
       "      <td>Stay</td>\n",
       "      <td>The Kid LAROI &amp; Justin Bieber</td>\n",
       "      <td>3</td>\n",
       "    </tr>\n",
       "    <tr>\n",
       "      <th>3</th>\n",
       "      <td>Industry Baby</td>\n",
       "      <td>Lil Nas X &amp; Jack Harlow</td>\n",
       "      <td>4</td>\n",
       "    </tr>\n",
       "    <tr>\n",
       "      <th>4</th>\n",
       "      <td>Smokin Out The Window</td>\n",
       "      <td>Silk Sonic (Bruno Mars &amp; Anderson .Paak)</td>\n",
       "      <td>5</td>\n",
       "    </tr>\n",
       "  </tbody>\n",
       "</table>\n",
       "</div>"
      ],
      "text/plain": [
       "                              song                                    artist  \\\n",
       "0  All Too Well (Taylor's Version)                              Taylor Swift   \n",
       "1                       Easy On Me                                     Adele   \n",
       "2                             Stay             The Kid LAROI & Justin Bieber   \n",
       "3                    Industry Baby                   Lil Nas X & Jack Harlow   \n",
       "4            Smokin Out The Window  Silk Sonic (Bruno Mars & Anderson .Paak)   \n",
       "\n",
       "   rank  \n",
       "0     1  \n",
       "1     2  \n",
       "2     3  \n",
       "3     4  \n",
       "4     5  "
      ]
     },
     "execution_count": 15,
     "metadata": {},
     "output_type": "execute_result"
    }
   ],
   "source": [
    "songsdf.head()"
   ]
  },
  {
   "cell_type": "code",
   "execution_count": 16,
   "id": "d654cb8d",
   "metadata": {},
   "outputs": [],
   "source": [
    "songsdf.to_csv(\"top_hot_100.csv\", index=False)"
   ]
  },
  {
   "cell_type": "code",
   "execution_count": null,
   "id": "cd802d0c",
   "metadata": {},
   "outputs": [],
   "source": []
  }
 ],
 "metadata": {
  "kernelspec": {
   "display_name": "Python 3 (ipykernel)",
   "language": "python",
   "name": "python3"
  },
  "language_info": {
   "codemirror_mode": {
    "name": "ipython",
    "version": 3
   },
   "file_extension": ".py",
   "mimetype": "text/x-python",
   "name": "python",
   "nbconvert_exporter": "python",
   "pygments_lexer": "ipython3",
   "version": "3.8.12"
  },
  "toc": {
   "base_numbering": 1,
   "nav_menu": {},
   "number_sections": true,
   "sideBar": true,
   "skip_h1_title": false,
   "title_cell": "Table of Contents",
   "title_sidebar": "Contents",
   "toc_cell": false,
   "toc_position": {},
   "toc_section_display": true,
   "toc_window_display": false
  }
 },
 "nbformat": 4,
 "nbformat_minor": 5
}
