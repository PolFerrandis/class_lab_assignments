{
 "cells": [
  {
   "cell_type": "markdown",
   "id": "c5368d14",
   "metadata": {},
   "source": [
    "## Import Libraries"
   ]
  },
  {
   "cell_type": "code",
   "execution_count": 1,
   "id": "c3750562",
   "metadata": {},
   "outputs": [],
   "source": [
    "import spotipy \n",
    "from spotipy.oauth2 import SpotifyClientCredentials\n",
    "import pandas as pd\n",
    "import getpass"
   ]
  },
  {
   "cell_type": "markdown",
   "id": "fa0516b8",
   "metadata": {},
   "source": [
    "##  Credentials"
   ]
  },
  {
   "cell_type": "code",
   "execution_count": 2,
   "id": "9905d314",
   "metadata": {},
   "outputs": [
    {
     "name": "stdout",
     "output_type": "stream",
     "text": [
      "client_id?········\n",
      "client_secret?········\n"
     ]
    }
   ],
   "source": [
    "client_id = str(getpass.getpass('client_id?'))\n",
    "client_secret = str(getpass.getpass('client_secret?'))"
   ]
  },
  {
   "cell_type": "code",
   "execution_count": 3,
   "id": "dfc38553",
   "metadata": {},
   "outputs": [],
   "source": [
    "client_credentials_manager = SpotifyClientCredentials(client_id, client_secret)\n",
    "sp = spotipy.Spotify(client_credentials_manager = client_credentials_manager)"
   ]
  },
  {
   "cell_type": "markdown",
   "id": "6e035e05",
   "metadata": {},
   "source": [
    "## Getting data from different playlists"
   ]
  },
  {
   "cell_type": "markdown",
   "id": "48b38610",
   "metadata": {},
   "source": [
    "### Getting data from jazz playlist"
   ]
  },
  {
   "cell_type": "markdown",
   "id": "557b8d70",
   "metadata": {},
   "source": [
    "https://open.spotify.com/playlist/37i9dQZF1EQqA6klNdJvwx\n",
    "\n",
    "username = Spotify\n",
    "\n",
    "playlist id = 37i9dQZF1EQqA6klNdJvwx"
   ]
  },
  {
   "cell_type": "code",
   "execution_count": 4,
   "id": "0cc4a41b",
   "metadata": {},
   "outputs": [],
   "source": [
    "playlist1=sp.user_playlist_tracks(\"Spotify\",\"37i9dQZF1EQqA6klNdJvwx\")"
   ]
  },
  {
   "cell_type": "markdown",
   "id": "edd703b4",
   "metadata": {},
   "source": [
    "#### Exploring data"
   ]
  },
  {
   "cell_type": "code",
   "execution_count": 5,
   "id": "dabe08d1",
   "metadata": {},
   "outputs": [
    {
     "data": {
      "text/plain": [
       "50"
      ]
     },
     "execution_count": 5,
     "metadata": {},
     "output_type": "execute_result"
    }
   ],
   "source": [
    "len(playlist1[\"items\"])"
   ]
  },
  {
   "cell_type": "code",
   "execution_count": 6,
   "id": "7a74113f",
   "metadata": {},
   "outputs": [
    {
     "data": {
      "text/plain": [
       "dict_keys(['href', 'items', 'limit', 'next', 'offset', 'previous', 'total'])"
      ]
     },
     "execution_count": 6,
     "metadata": {},
     "output_type": "execute_result"
    }
   ],
   "source": [
    "playlist1.keys()"
   ]
  },
  {
   "cell_type": "code",
   "execution_count": 7,
   "id": "3b8adfa6",
   "metadata": {},
   "outputs": [
    {
     "data": {
      "text/plain": [
       "'A Kiss To Build A Dream On'"
      ]
     },
     "execution_count": 7,
     "metadata": {},
     "output_type": "execute_result"
    }
   ],
   "source": [
    "playlist1[\"items\"][0][\"track\"][\"name\"]"
   ]
  },
  {
   "cell_type": "code",
   "execution_count": 8,
   "id": "7ab37634",
   "metadata": {},
   "outputs": [
    {
     "data": {
      "text/plain": [
       "'spotify:track:6GtJqo0vr7DqWOHQtp77cV'"
      ]
     },
     "execution_count": 8,
     "metadata": {},
     "output_type": "execute_result"
    }
   ],
   "source": [
    "playlist1[\"items\"][0][\"track\"][\"uri\"]"
   ]
  },
  {
   "cell_type": "code",
   "execution_count": 9,
   "id": "6c3b6c8b",
   "metadata": {},
   "outputs": [
    {
     "data": {
      "text/plain": [
       "'6GtJqo0vr7DqWOHQtp77cV'"
      ]
     },
     "execution_count": 9,
     "metadata": {},
     "output_type": "execute_result"
    }
   ],
   "source": [
    "playlist1[\"items\"][0][\"track\"][\"id\"]"
   ]
  },
  {
   "cell_type": "code",
   "execution_count": 10,
   "id": "9fcde587",
   "metadata": {},
   "outputs": [
    {
     "data": {
      "text/plain": [
       "'Louis Armstrong'"
      ]
     },
     "execution_count": 10,
     "metadata": {},
     "output_type": "execute_result"
    }
   ],
   "source": [
    "playlist1[\"items\"][0][\"track\"][\"artists\"][0][\"name\"]"
   ]
  },
  {
   "cell_type": "code",
   "execution_count": 11,
   "id": "d5e16e45",
   "metadata": {},
   "outputs": [],
   "source": [
    "song_name=[]\n",
    "song_URI=[]\n",
    "song_ID=[]\n",
    "song_artist=[]"
   ]
  },
  {
   "cell_type": "code",
   "execution_count": 12,
   "id": "c5730f7a",
   "metadata": {},
   "outputs": [],
   "source": [
    "playlist1=playlist1[\"items\"]"
   ]
  },
  {
   "cell_type": "code",
   "execution_count": 13,
   "id": "9322bb0f",
   "metadata": {},
   "outputs": [],
   "source": [
    "\n",
    "for r in playlist1:\n",
    "    song_name.append(r[\"track\"][\"name\"])\n",
    "    song_URI.append(r[\"track\"][\"uri\"])\n",
    "    song_ID.append(r[\"track\"][\"id\"])\n",
    "    song_artist.append(r[\"track\"][\"artists\"][0][\"name\"])\n",
    "    "
   ]
  },
  {
   "cell_type": "code",
   "execution_count": 14,
   "id": "df003ebd",
   "metadata": {},
   "outputs": [],
   "source": [
    "playlist1_song_info=pd.DataFrame({\"song_name\":song_name,\"song_URI\":song_URI,\"song_ID\":song_ID,\"song_artist\":song_artist})"
   ]
  },
  {
   "cell_type": "code",
   "execution_count": 15,
   "id": "0a7ed73c",
   "metadata": {},
   "outputs": [
    {
     "data": {
      "text/html": [
       "<div>\n",
       "<style scoped>\n",
       "    .dataframe tbody tr th:only-of-type {\n",
       "        vertical-align: middle;\n",
       "    }\n",
       "\n",
       "    .dataframe tbody tr th {\n",
       "        vertical-align: top;\n",
       "    }\n",
       "\n",
       "    .dataframe thead th {\n",
       "        text-align: right;\n",
       "    }\n",
       "</style>\n",
       "<table border=\"1\" class=\"dataframe\">\n",
       "  <thead>\n",
       "    <tr style=\"text-align: right;\">\n",
       "      <th></th>\n",
       "      <th>song_name</th>\n",
       "      <th>song_URI</th>\n",
       "      <th>song_ID</th>\n",
       "      <th>song_artist</th>\n",
       "    </tr>\n",
       "  </thead>\n",
       "  <tbody>\n",
       "    <tr>\n",
       "      <th>0</th>\n",
       "      <td>A Kiss To Build A Dream On</td>\n",
       "      <td>spotify:track:6GtJqo0vr7DqWOHQtp77cV</td>\n",
       "      <td>6GtJqo0vr7DqWOHQtp77cV</td>\n",
       "      <td>Louis Armstrong</td>\n",
       "    </tr>\n",
       "    <tr>\n",
       "      <th>1</th>\n",
       "      <td>Blue Moon</td>\n",
       "      <td>spotify:track:1pZn8AX1WulW8IO338hE5D</td>\n",
       "      <td>1pZn8AX1WulW8IO338hE5D</td>\n",
       "      <td>Billie Holiday</td>\n",
       "    </tr>\n",
       "    <tr>\n",
       "      <th>2</th>\n",
       "      <td>Stop! In the Name of Love</td>\n",
       "      <td>spotify:track:1x98btCc5EIiCLIxC79kge</td>\n",
       "      <td>1x98btCc5EIiCLIxC79kge</td>\n",
       "      <td>Lisa Ekdahl</td>\n",
       "    </tr>\n",
       "    <tr>\n",
       "      <th>3</th>\n",
       "      <td>Cette nuitl la</td>\n",
       "      <td>spotify:track:1VbQ1nbKIEbiR7JL7htId5</td>\n",
       "      <td>1VbQ1nbKIEbiR7JL7htId5</td>\n",
       "      <td>Les Chauds Lapins</td>\n",
       "    </tr>\n",
       "    <tr>\n",
       "      <th>4</th>\n",
       "      <td>Sov</td>\n",
       "      <td>spotify:track:7DsnKZJY1W7yXQ23w4QfAp</td>\n",
       "      <td>7DsnKZJY1W7yXQ23w4QfAp</td>\n",
       "      <td>Bo Kaspers Orkester</td>\n",
       "    </tr>\n",
       "  </tbody>\n",
       "</table>\n",
       "</div>"
      ],
      "text/plain": [
       "                    song_name                              song_URI  \\\n",
       "0  A Kiss To Build A Dream On  spotify:track:6GtJqo0vr7DqWOHQtp77cV   \n",
       "1                   Blue Moon  spotify:track:1pZn8AX1WulW8IO338hE5D   \n",
       "2   Stop! In the Name of Love  spotify:track:1x98btCc5EIiCLIxC79kge   \n",
       "3              Cette nuitl la  spotify:track:1VbQ1nbKIEbiR7JL7htId5   \n",
       "4                         Sov  spotify:track:7DsnKZJY1W7yXQ23w4QfAp   \n",
       "\n",
       "                  song_ID          song_artist  \n",
       "0  6GtJqo0vr7DqWOHQtp77cV      Louis Armstrong  \n",
       "1  1pZn8AX1WulW8IO338hE5D       Billie Holiday  \n",
       "2  1x98btCc5EIiCLIxC79kge          Lisa Ekdahl  \n",
       "3  1VbQ1nbKIEbiR7JL7htId5    Les Chauds Lapins  \n",
       "4  7DsnKZJY1W7yXQ23w4QfAp  Bo Kaspers Orkester  "
      ]
     },
     "execution_count": 15,
     "metadata": {},
     "output_type": "execute_result"
    }
   ],
   "source": [
    "playlist1_song_info.head()"
   ]
  },
  {
   "cell_type": "markdown",
   "id": "1c00d88e",
   "metadata": {},
   "source": [
    "### Getting data from pop playlist"
   ]
  },
  {
   "cell_type": "markdown",
   "id": "ff5ed86a",
   "metadata": {},
   "source": [
    "https://open.spotify.com/playlist/37i9dQZF1EQncLwOalG3K7\n",
    "\n",
    "username = Spotify\n",
    "\n",
    "playlist id = 37i9dQZF1EQncLwOalG3K7"
   ]
  },
  {
   "cell_type": "code",
   "execution_count": 16,
   "id": "0b82ddf5",
   "metadata": {},
   "outputs": [],
   "source": [
    "playlist2=sp.user_playlist_tracks(\"Spotify\",\"37i9dQZF1EQncLwOalG3K7\")"
   ]
  },
  {
   "cell_type": "code",
   "execution_count": 17,
   "id": "5b2d163e",
   "metadata": {},
   "outputs": [
    {
     "data": {
      "text/plain": [
       "50"
      ]
     },
     "execution_count": 17,
     "metadata": {},
     "output_type": "execute_result"
    }
   ],
   "source": [
    "len(playlist2[\"items\"])"
   ]
  },
  {
   "cell_type": "code",
   "execution_count": 18,
   "id": "a790fb0a",
   "metadata": {},
   "outputs": [],
   "source": [
    "song_name=[]\n",
    "song_URI=[]\n",
    "song_ID=[]\n",
    "song_artist=[]\n",
    "playlist2=playlist2[\"items\"]"
   ]
  },
  {
   "cell_type": "code",
   "execution_count": 19,
   "id": "a5816fde",
   "metadata": {},
   "outputs": [],
   "source": [
    "for r in playlist2:\n",
    "    song_name.append(r[\"track\"][\"name\"])\n",
    "    song_URI.append(r[\"track\"][\"uri\"])\n",
    "    song_ID.append(r[\"track\"][\"id\"])\n",
    "    song_artist.append(r[\"track\"][\"artists\"][0][\"name\"])"
   ]
  },
  {
   "cell_type": "code",
   "execution_count": 20,
   "id": "347b0758",
   "metadata": {},
   "outputs": [],
   "source": [
    "playlist2_song_info=pd.DataFrame({\"song_name\":song_name,\"song_URI\":song_URI,\"song_ID\":song_ID,\"song_artist\":song_artist})"
   ]
  },
  {
   "cell_type": "code",
   "execution_count": 21,
   "id": "ce8ea248",
   "metadata": {},
   "outputs": [
    {
     "data": {
      "text/html": [
       "<div>\n",
       "<style scoped>\n",
       "    .dataframe tbody tr th:only-of-type {\n",
       "        vertical-align: middle;\n",
       "    }\n",
       "\n",
       "    .dataframe tbody tr th {\n",
       "        vertical-align: top;\n",
       "    }\n",
       "\n",
       "    .dataframe thead th {\n",
       "        text-align: right;\n",
       "    }\n",
       "</style>\n",
       "<table border=\"1\" class=\"dataframe\">\n",
       "  <thead>\n",
       "    <tr style=\"text-align: right;\">\n",
       "      <th></th>\n",
       "      <th>song_name</th>\n",
       "      <th>song_URI</th>\n",
       "      <th>song_ID</th>\n",
       "      <th>song_artist</th>\n",
       "    </tr>\n",
       "  </thead>\n",
       "  <tbody>\n",
       "    <tr>\n",
       "      <th>0</th>\n",
       "      <td>Best Part of Me (feat. YEBBA)</td>\n",
       "      <td>spotify:track:0VsGaRXR5WAzpu51unJTis</td>\n",
       "      <td>0VsGaRXR5WAzpu51unJTis</td>\n",
       "      <td>Ed Sheeran</td>\n",
       "    </tr>\n",
       "    <tr>\n",
       "      <th>1</th>\n",
       "      <td>jealousy, jealousy</td>\n",
       "      <td>spotify:track:0MMyJUC3WNnFS1lit5pTjk</td>\n",
       "      <td>0MMyJUC3WNnFS1lit5pTjk</td>\n",
       "      <td>Olivia Rodrigo</td>\n",
       "    </tr>\n",
       "    <tr>\n",
       "      <th>2</th>\n",
       "      <td>Cyber Sex</td>\n",
       "      <td>spotify:track:1ghvzmzpx2nnrbx7wtpMgo</td>\n",
       "      <td>1ghvzmzpx2nnrbx7wtpMgo</td>\n",
       "      <td>Doja Cat</td>\n",
       "    </tr>\n",
       "    <tr>\n",
       "      <th>3</th>\n",
       "      <td>Water Fountain</td>\n",
       "      <td>spotify:track:4IhKLu7Vk3j2TLmnFPl6To</td>\n",
       "      <td>4IhKLu7Vk3j2TLmnFPl6To</td>\n",
       "      <td>Alec Benjamin</td>\n",
       "    </tr>\n",
       "    <tr>\n",
       "      <th>4</th>\n",
       "      <td>Send My Love (To Your New Lover)</td>\n",
       "      <td>spotify:track:563SfWAHJs4FBZMkRN0IFN</td>\n",
       "      <td>563SfWAHJs4FBZMkRN0IFN</td>\n",
       "      <td>Adele</td>\n",
       "    </tr>\n",
       "  </tbody>\n",
       "</table>\n",
       "</div>"
      ],
      "text/plain": [
       "                          song_name                              song_URI  \\\n",
       "0     Best Part of Me (feat. YEBBA)  spotify:track:0VsGaRXR5WAzpu51unJTis   \n",
       "1                jealousy, jealousy  spotify:track:0MMyJUC3WNnFS1lit5pTjk   \n",
       "2                         Cyber Sex  spotify:track:1ghvzmzpx2nnrbx7wtpMgo   \n",
       "3                    Water Fountain  spotify:track:4IhKLu7Vk3j2TLmnFPl6To   \n",
       "4  Send My Love (To Your New Lover)  spotify:track:563SfWAHJs4FBZMkRN0IFN   \n",
       "\n",
       "                  song_ID     song_artist  \n",
       "0  0VsGaRXR5WAzpu51unJTis      Ed Sheeran  \n",
       "1  0MMyJUC3WNnFS1lit5pTjk  Olivia Rodrigo  \n",
       "2  1ghvzmzpx2nnrbx7wtpMgo        Doja Cat  \n",
       "3  4IhKLu7Vk3j2TLmnFPl6To   Alec Benjamin  \n",
       "4  563SfWAHJs4FBZMkRN0IFN           Adele  "
      ]
     },
     "execution_count": 21,
     "metadata": {},
     "output_type": "execute_result"
    }
   ],
   "source": [
    "playlist2_song_info.head()"
   ]
  },
  {
   "cell_type": "markdown",
   "id": "a71a1a28",
   "metadata": {},
   "source": [
    "### Getting data from rock playlist"
   ]
  },
  {
   "cell_type": "markdown",
   "id": "4ccc16fb",
   "metadata": {},
   "source": [
    "https://open.spotify.com/playlist/37i9dQZF1EQpj7X7UK8OOF\n",
    "\n",
    "username = Spotify\n",
    "\n",
    "playlist id = 37i9dQZF1EQpj7X7UK8OOF"
   ]
  },
  {
   "cell_type": "code",
   "execution_count": 22,
   "id": "0a07bd2d",
   "metadata": {},
   "outputs": [],
   "source": [
    "playlist3=sp.user_playlist_tracks(\"Spotify\",\"37i9dQZF1EQpj7X7UK8OOF\")"
   ]
  },
  {
   "cell_type": "code",
   "execution_count": 23,
   "id": "04dd042b",
   "metadata": {},
   "outputs": [
    {
     "data": {
      "text/plain": [
       "50"
      ]
     },
     "execution_count": 23,
     "metadata": {},
     "output_type": "execute_result"
    }
   ],
   "source": [
    "len(playlist3[\"items\"])"
   ]
  },
  {
   "cell_type": "code",
   "execution_count": 24,
   "id": "75416662",
   "metadata": {},
   "outputs": [],
   "source": [
    "song_name=[]\n",
    "song_URI=[]\n",
    "song_ID=[]\n",
    "song_artist=[]\n",
    "playlist3=playlist3[\"items\"]"
   ]
  },
  {
   "cell_type": "code",
   "execution_count": 25,
   "id": "ca05534f",
   "metadata": {},
   "outputs": [],
   "source": [
    "for r in playlist3:\n",
    "    song_name.append(r[\"track\"][\"name\"])\n",
    "    song_URI.append(r[\"track\"][\"uri\"])\n",
    "    song_ID.append(r[\"track\"][\"id\"])\n",
    "    song_artist.append(r[\"track\"][\"artists\"][0][\"name\"])"
   ]
  },
  {
   "cell_type": "code",
   "execution_count": 26,
   "id": "ce411336",
   "metadata": {},
   "outputs": [],
   "source": [
    "playlist3_song_info=pd.DataFrame({\"song_name\":song_name,\"song_URI\":song_URI,\"song_ID\":song_ID,\"song_artist\":song_artist})"
   ]
  },
  {
   "cell_type": "code",
   "execution_count": 27,
   "id": "1224a92f",
   "metadata": {},
   "outputs": [
    {
     "data": {
      "text/html": [
       "<div>\n",
       "<style scoped>\n",
       "    .dataframe tbody tr th:only-of-type {\n",
       "        vertical-align: middle;\n",
       "    }\n",
       "\n",
       "    .dataframe tbody tr th {\n",
       "        vertical-align: top;\n",
       "    }\n",
       "\n",
       "    .dataframe thead th {\n",
       "        text-align: right;\n",
       "    }\n",
       "</style>\n",
       "<table border=\"1\" class=\"dataframe\">\n",
       "  <thead>\n",
       "    <tr style=\"text-align: right;\">\n",
       "      <th></th>\n",
       "      <th>song_name</th>\n",
       "      <th>song_URI</th>\n",
       "      <th>song_ID</th>\n",
       "      <th>song_artist</th>\n",
       "    </tr>\n",
       "  </thead>\n",
       "  <tbody>\n",
       "    <tr>\n",
       "      <th>0</th>\n",
       "      <td>Serve The Servants</td>\n",
       "      <td>spotify:track:3w5Ekq9O8g0gGFEsT77Ydi</td>\n",
       "      <td>3w5Ekq9O8g0gGFEsT77Ydi</td>\n",
       "      <td>Nirvana</td>\n",
       "    </tr>\n",
       "    <tr>\n",
       "      <th>1</th>\n",
       "      <td>Don't Stop Believin'</td>\n",
       "      <td>spotify:track:4bHsxqR3GMrXTxEPLuK5ue</td>\n",
       "      <td>4bHsxqR3GMrXTxEPLuK5ue</td>\n",
       "      <td>Journey</td>\n",
       "    </tr>\n",
       "    <tr>\n",
       "      <th>2</th>\n",
       "      <td>I Love It Loud</td>\n",
       "      <td>spotify:track:7yDrKl1J4VWNbR4aLU3qJ7</td>\n",
       "      <td>7yDrKl1J4VWNbR4aLU3qJ7</td>\n",
       "      <td>KISS</td>\n",
       "    </tr>\n",
       "    <tr>\n",
       "      <th>3</th>\n",
       "      <td>Piano Man</td>\n",
       "      <td>spotify:track:70C4NyhjD5OZUMzvWZ3njJ</td>\n",
       "      <td>70C4NyhjD5OZUMzvWZ3njJ</td>\n",
       "      <td>Billy Joel</td>\n",
       "    </tr>\n",
       "    <tr>\n",
       "      <th>4</th>\n",
       "      <td>Killer Queen - Remastered 2011</td>\n",
       "      <td>spotify:track:4cIPLtg1avt2Jm3ne9S1zy</td>\n",
       "      <td>4cIPLtg1avt2Jm3ne9S1zy</td>\n",
       "      <td>Queen</td>\n",
       "    </tr>\n",
       "  </tbody>\n",
       "</table>\n",
       "</div>"
      ],
      "text/plain": [
       "                        song_name                              song_URI  \\\n",
       "0              Serve The Servants  spotify:track:3w5Ekq9O8g0gGFEsT77Ydi   \n",
       "1            Don't Stop Believin'  spotify:track:4bHsxqR3GMrXTxEPLuK5ue   \n",
       "2                  I Love It Loud  spotify:track:7yDrKl1J4VWNbR4aLU3qJ7   \n",
       "3                       Piano Man  spotify:track:70C4NyhjD5OZUMzvWZ3njJ   \n",
       "4  Killer Queen - Remastered 2011  spotify:track:4cIPLtg1avt2Jm3ne9S1zy   \n",
       "\n",
       "                  song_ID song_artist  \n",
       "0  3w5Ekq9O8g0gGFEsT77Ydi     Nirvana  \n",
       "1  4bHsxqR3GMrXTxEPLuK5ue     Journey  \n",
       "2  7yDrKl1J4VWNbR4aLU3qJ7        KISS  \n",
       "3  70C4NyhjD5OZUMzvWZ3njJ  Billy Joel  \n",
       "4  4cIPLtg1avt2Jm3ne9S1zy       Queen  "
      ]
     },
     "execution_count": 27,
     "metadata": {},
     "output_type": "execute_result"
    }
   ],
   "source": [
    "playlist3_song_info.head()"
   ]
  },
  {
   "cell_type": "code",
   "execution_count": null,
   "id": "5e4ce910",
   "metadata": {},
   "outputs": [],
   "source": []
  },
  {
   "cell_type": "markdown",
   "id": "a6b0672d",
   "metadata": {},
   "source": [
    "### Getting data from country playlist"
   ]
  },
  {
   "cell_type": "markdown",
   "id": "412e8dc7",
   "metadata": {},
   "source": [
    "https:https://open.spotify.com/playlist/5HspwceR7ZOqnC5bczZkwv\n",
    "\n",
    "username = Spotify\n",
    "\n",
    "playlist id = 5HspwceR7ZOqnC5bczZkwv"
   ]
  },
  {
   "cell_type": "code",
   "execution_count": 28,
   "id": "ceb939d5",
   "metadata": {},
   "outputs": [],
   "source": [
    "playlist4=sp.user_playlist_tracks(\"Spotify\",\"5HspwceR7ZOqnC5bczZkwv\")"
   ]
  },
  {
   "cell_type": "code",
   "execution_count": 29,
   "id": "b73afa27",
   "metadata": {},
   "outputs": [
    {
     "data": {
      "text/plain": [
       "10"
      ]
     },
     "execution_count": 29,
     "metadata": {},
     "output_type": "execute_result"
    }
   ],
   "source": [
    "len(playlist4[\"items\"])"
   ]
  },
  {
   "cell_type": "code",
   "execution_count": 30,
   "id": "208edbbd",
   "metadata": {},
   "outputs": [],
   "source": [
    "song_name=[]\n",
    "song_URI=[]\n",
    "song_ID=[]\n",
    "song_artist=[]\n",
    "playlist4=playlist4[\"items\"]"
   ]
  },
  {
   "cell_type": "code",
   "execution_count": 31,
   "id": "8504cc82",
   "metadata": {},
   "outputs": [],
   "source": [
    "for r in playlist4:\n",
    "    song_name.append(r[\"track\"][\"name\"])\n",
    "    song_URI.append(r[\"track\"][\"uri\"])\n",
    "    song_ID.append(r[\"track\"][\"id\"])\n",
    "    song_artist.append(r[\"track\"][\"artists\"][0][\"name\"])"
   ]
  },
  {
   "cell_type": "code",
   "execution_count": 32,
   "id": "e2f4f924",
   "metadata": {},
   "outputs": [],
   "source": [
    "playlist4_song_info=pd.DataFrame({\"song_name\":song_name,\"song_URI\":song_URI,\"song_ID\":song_ID,\"song_artist\":song_artist})"
   ]
  },
  {
   "cell_type": "code",
   "execution_count": 33,
   "id": "14b83191",
   "metadata": {
    "scrolled": true
   },
   "outputs": [
    {
     "data": {
      "text/html": [
       "<div>\n",
       "<style scoped>\n",
       "    .dataframe tbody tr th:only-of-type {\n",
       "        vertical-align: middle;\n",
       "    }\n",
       "\n",
       "    .dataframe tbody tr th {\n",
       "        vertical-align: top;\n",
       "    }\n",
       "\n",
       "    .dataframe thead th {\n",
       "        text-align: right;\n",
       "    }\n",
       "</style>\n",
       "<table border=\"1\" class=\"dataframe\">\n",
       "  <thead>\n",
       "    <tr style=\"text-align: right;\">\n",
       "      <th></th>\n",
       "      <th>song_name</th>\n",
       "      <th>song_URI</th>\n",
       "      <th>song_ID</th>\n",
       "      <th>song_artist</th>\n",
       "    </tr>\n",
       "  </thead>\n",
       "  <tbody>\n",
       "    <tr>\n",
       "      <th>0</th>\n",
       "      <td>Rock Bottom</td>\n",
       "      <td>spotify:track:7IKhMrLuFiTfnKwp43YVGN</td>\n",
       "      <td>7IKhMrLuFiTfnKwp43YVGN</td>\n",
       "      <td>Jack and the Weatherman</td>\n",
       "    </tr>\n",
       "    <tr>\n",
       "      <th>1</th>\n",
       "      <td>Sleep On The Floor</td>\n",
       "      <td>spotify:track:44uOreAESeRIBaxkuCW4wN</td>\n",
       "      <td>44uOreAESeRIBaxkuCW4wN</td>\n",
       "      <td>The Lumineers</td>\n",
       "    </tr>\n",
       "    <tr>\n",
       "      <th>2</th>\n",
       "      <td>Hold on Tight</td>\n",
       "      <td>spotify:track:14RDwuW2LrbcwUjjP4TOBh</td>\n",
       "      <td>14RDwuW2LrbcwUjjP4TOBh</td>\n",
       "      <td>Greg Holden</td>\n",
       "    </tr>\n",
       "    <tr>\n",
       "      <th>3</th>\n",
       "      <td>Just One Day</td>\n",
       "      <td>spotify:track:6LrmBaj2iSeGVm1gRK7IDg</td>\n",
       "      <td>6LrmBaj2iSeGVm1gRK7IDg</td>\n",
       "      <td>Mighty Oaks</td>\n",
       "    </tr>\n",
       "    <tr>\n",
       "      <th>4</th>\n",
       "      <td>California (Cast Iron Soul)</td>\n",
       "      <td>spotify:track:14A2dKF4O0kQD0E5CCX3Jc</td>\n",
       "      <td>14A2dKF4O0kQD0E5CCX3Jc</td>\n",
       "      <td>Jamestown Revival</td>\n",
       "    </tr>\n",
       "  </tbody>\n",
       "</table>\n",
       "</div>"
      ],
      "text/plain": [
       "                     song_name                              song_URI  \\\n",
       "0                  Rock Bottom  spotify:track:7IKhMrLuFiTfnKwp43YVGN   \n",
       "1           Sleep On The Floor  spotify:track:44uOreAESeRIBaxkuCW4wN   \n",
       "2                Hold on Tight  spotify:track:14RDwuW2LrbcwUjjP4TOBh   \n",
       "3                 Just One Day  spotify:track:6LrmBaj2iSeGVm1gRK7IDg   \n",
       "4  California (Cast Iron Soul)  spotify:track:14A2dKF4O0kQD0E5CCX3Jc   \n",
       "\n",
       "                  song_ID              song_artist  \n",
       "0  7IKhMrLuFiTfnKwp43YVGN  Jack and the Weatherman  \n",
       "1  44uOreAESeRIBaxkuCW4wN            The Lumineers  \n",
       "2  14RDwuW2LrbcwUjjP4TOBh              Greg Holden  \n",
       "3  6LrmBaj2iSeGVm1gRK7IDg              Mighty Oaks  \n",
       "4  14A2dKF4O0kQD0E5CCX3Jc        Jamestown Revival  "
      ]
     },
     "execution_count": 33,
     "metadata": {},
     "output_type": "execute_result"
    }
   ],
   "source": [
    "playlist4_song_info.head()"
   ]
  },
  {
   "cell_type": "markdown",
   "id": "bfcffb95",
   "metadata": {},
   "source": [
    "### Getting data from hip-hop playlist"
   ]
  },
  {
   "cell_type": "markdown",
   "id": "7186c09e",
   "metadata": {},
   "source": [
    "https://open.spotify.com/playlist/37i9dQZF1EQnqst5TRi17F\n",
    "\n",
    "username = Spotify\n",
    "\n",
    "playlist id = 37i9dQZF1EQnqst5TRi17F"
   ]
  },
  {
   "cell_type": "code",
   "execution_count": 34,
   "id": "556f3673",
   "metadata": {},
   "outputs": [],
   "source": [
    "playlist5=sp.user_playlist_tracks(\"Spotify\",\"37i9dQZF1EQnqst5TRi17F\")"
   ]
  },
  {
   "cell_type": "code",
   "execution_count": 35,
   "id": "0f205072",
   "metadata": {},
   "outputs": [
    {
     "data": {
      "text/plain": [
       "50"
      ]
     },
     "execution_count": 35,
     "metadata": {},
     "output_type": "execute_result"
    }
   ],
   "source": [
    "len(playlist5[\"items\"])"
   ]
  },
  {
   "cell_type": "code",
   "execution_count": 36,
   "id": "fcd496f7",
   "metadata": {},
   "outputs": [],
   "source": [
    "song_name=[]\n",
    "song_URI=[]\n",
    "song_ID=[]\n",
    "song_artist=[]\n",
    "playlist5=playlist5[\"items\"]"
   ]
  },
  {
   "cell_type": "code",
   "execution_count": 37,
   "id": "139d42eb",
   "metadata": {},
   "outputs": [],
   "source": [
    "for r in playlist5:\n",
    "    song_name.append(r[\"track\"][\"name\"])\n",
    "    song_URI.append(r[\"track\"][\"uri\"])\n",
    "    song_ID.append(r[\"track\"][\"id\"])\n",
    "    song_artist.append(r[\"track\"][\"artists\"][0][\"name\"])"
   ]
  },
  {
   "cell_type": "code",
   "execution_count": 38,
   "id": "199a3a22",
   "metadata": {},
   "outputs": [],
   "source": [
    "playlist5_song_info=pd.DataFrame({\"song_name\":song_name,\"song_URI\":song_URI,\"song_ID\":song_ID,\"song_artist\":song_artist})"
   ]
  },
  {
   "cell_type": "code",
   "execution_count": 39,
   "id": "eec271b9",
   "metadata": {
    "scrolled": true
   },
   "outputs": [
    {
     "data": {
      "text/html": [
       "<div>\n",
       "<style scoped>\n",
       "    .dataframe tbody tr th:only-of-type {\n",
       "        vertical-align: middle;\n",
       "    }\n",
       "\n",
       "    .dataframe tbody tr th {\n",
       "        vertical-align: top;\n",
       "    }\n",
       "\n",
       "    .dataframe thead th {\n",
       "        text-align: right;\n",
       "    }\n",
       "</style>\n",
       "<table border=\"1\" class=\"dataframe\">\n",
       "  <thead>\n",
       "    <tr style=\"text-align: right;\">\n",
       "      <th></th>\n",
       "      <th>song_name</th>\n",
       "      <th>song_URI</th>\n",
       "      <th>song_ID</th>\n",
       "      <th>song_artist</th>\n",
       "    </tr>\n",
       "  </thead>\n",
       "  <tbody>\n",
       "    <tr>\n",
       "      <th>0</th>\n",
       "      <td>DIMMAN</td>\n",
       "      <td>spotify:track:29WzbZEpEDnVaEpNlytAVC</td>\n",
       "      <td>29WzbZEpEDnVaEpNlytAVC</td>\n",
       "      <td>Robbz x Brookz</td>\n",
       "    </tr>\n",
       "    <tr>\n",
       "      <th>1</th>\n",
       "      <td>Hiphop N RnB</td>\n",
       "      <td>spotify:track:5bx4stZRInFwFz40fHDa7h</td>\n",
       "      <td>5bx4stZRInFwFz40fHDa7h</td>\n",
       "      <td>Yasin</td>\n",
       "    </tr>\n",
       "    <tr>\n",
       "      <th>2</th>\n",
       "      <td>Motorola</td>\n",
       "      <td>spotify:track:3uxDq5iITcm46eclwAYR7g</td>\n",
       "      <td>3uxDq5iITcm46eclwAYR7g</td>\n",
       "      <td>A36</td>\n",
       "    </tr>\n",
       "    <tr>\n",
       "      <th>3</th>\n",
       "      <td>När solen går ner</td>\n",
       "      <td>spotify:track:68GdZAAowWDac3SkdNWOwo</td>\n",
       "      <td>68GdZAAowWDac3SkdNWOwo</td>\n",
       "      <td>AKI</td>\n",
       "    </tr>\n",
       "    <tr>\n",
       "      <th>4</th>\n",
       "      <td>SOM DOM</td>\n",
       "      <td>spotify:track:7rwijx2xejRaPkEXUftI11</td>\n",
       "      <td>7rwijx2xejRaPkEXUftI11</td>\n",
       "      <td>Sarettii</td>\n",
       "    </tr>\n",
       "  </tbody>\n",
       "</table>\n",
       "</div>"
      ],
      "text/plain": [
       "           song_name                              song_URI  \\\n",
       "0             DIMMAN  spotify:track:29WzbZEpEDnVaEpNlytAVC   \n",
       "1       Hiphop N RnB  spotify:track:5bx4stZRInFwFz40fHDa7h   \n",
       "2           Motorola  spotify:track:3uxDq5iITcm46eclwAYR7g   \n",
       "3  När solen går ner  spotify:track:68GdZAAowWDac3SkdNWOwo   \n",
       "4            SOM DOM  spotify:track:7rwijx2xejRaPkEXUftI11   \n",
       "\n",
       "                  song_ID     song_artist  \n",
       "0  29WzbZEpEDnVaEpNlytAVC  Robbz x Brookz  \n",
       "1  5bx4stZRInFwFz40fHDa7h           Yasin  \n",
       "2  3uxDq5iITcm46eclwAYR7g             A36  \n",
       "3  68GdZAAowWDac3SkdNWOwo             AKI  \n",
       "4  7rwijx2xejRaPkEXUftI11        Sarettii  "
      ]
     },
     "execution_count": 39,
     "metadata": {},
     "output_type": "execute_result"
    }
   ],
   "source": [
    "playlist5_song_info.head()"
   ]
  },
  {
   "cell_type": "markdown",
   "id": "ec68f04d",
   "metadata": {},
   "source": [
    "### Getting data from Folk&Acoustic playlist"
   ]
  },
  {
   "cell_type": "markdown",
   "id": "b87eb64f",
   "metadata": {},
   "source": [
    "https://open.spotify.com/playlist/37i9dQZF1EQp62d3Dl7ECY\n",
    "    \n",
    "username = Spotify\n",
    "\n",
    "playlist id = 37i9dQZF1EQp62d3Dl7ECY"
   ]
  },
  {
   "cell_type": "code",
   "execution_count": 40,
   "id": "02bce594",
   "metadata": {},
   "outputs": [],
   "source": [
    "playlist6=sp.user_playlist_tracks(\"Spotify\",\"37i9dQZF1EQp62d3Dl7ECY\")"
   ]
  },
  {
   "cell_type": "code",
   "execution_count": 41,
   "id": "13f334da",
   "metadata": {},
   "outputs": [
    {
     "data": {
      "text/plain": [
       "50"
      ]
     },
     "execution_count": 41,
     "metadata": {},
     "output_type": "execute_result"
    }
   ],
   "source": [
    "len(playlist6[\"items\"])"
   ]
  },
  {
   "cell_type": "code",
   "execution_count": 42,
   "id": "5a0238b6",
   "metadata": {},
   "outputs": [],
   "source": [
    "song_name=[]\n",
    "song_URI=[]\n",
    "song_ID=[]\n",
    "song_artist=[]\n",
    "playlist6=playlist6[\"items\"]"
   ]
  },
  {
   "cell_type": "code",
   "execution_count": 43,
   "id": "823cc4d3",
   "metadata": {},
   "outputs": [],
   "source": [
    "for r in playlist6:\n",
    "    song_name.append(r[\"track\"][\"name\"])\n",
    "    song_URI.append(r[\"track\"][\"uri\"])\n",
    "    song_ID.append(r[\"track\"][\"id\"])\n",
    "    song_artist.append(r[\"track\"][\"artists\"][0][\"name\"])"
   ]
  },
  {
   "cell_type": "code",
   "execution_count": 44,
   "id": "fe905576",
   "metadata": {},
   "outputs": [],
   "source": [
    "playlist6_song_info=pd.DataFrame({\"song_name\":song_name,\"song_URI\":song_URI,\"song_ID\":song_ID,\"song_artist\":song_artist})"
   ]
  },
  {
   "cell_type": "code",
   "execution_count": 45,
   "id": "e204b593",
   "metadata": {},
   "outputs": [
    {
     "data": {
      "text/html": [
       "<div>\n",
       "<style scoped>\n",
       "    .dataframe tbody tr th:only-of-type {\n",
       "        vertical-align: middle;\n",
       "    }\n",
       "\n",
       "    .dataframe tbody tr th {\n",
       "        vertical-align: top;\n",
       "    }\n",
       "\n",
       "    .dataframe thead th {\n",
       "        text-align: right;\n",
       "    }\n",
       "</style>\n",
       "<table border=\"1\" class=\"dataframe\">\n",
       "  <thead>\n",
       "    <tr style=\"text-align: right;\">\n",
       "      <th></th>\n",
       "      <th>song_name</th>\n",
       "      <th>song_URI</th>\n",
       "      <th>song_ID</th>\n",
       "      <th>song_artist</th>\n",
       "    </tr>\n",
       "  </thead>\n",
       "  <tbody>\n",
       "    <tr>\n",
       "      <th>0</th>\n",
       "      <td>Rosyln</td>\n",
       "      <td>spotify:track:1vsFzbhQXTqKJ3YSWxWxmJ</td>\n",
       "      <td>1vsFzbhQXTqKJ3YSWxWxmJ</td>\n",
       "      <td>Bon Iver</td>\n",
       "    </tr>\n",
       "    <tr>\n",
       "      <th>1</th>\n",
       "      <td>Fourth of July</td>\n",
       "      <td>spotify:track:5Qnrgqy1pAm9GyNQOgyVFz</td>\n",
       "      <td>5Qnrgqy1pAm9GyNQOgyVFz</td>\n",
       "      <td>Sufjan Stevens</td>\n",
       "    </tr>\n",
       "    <tr>\n",
       "      <th>2</th>\n",
       "      <td>No Children</td>\n",
       "      <td>spotify:track:5cxnSTLzGD1t9xcdmJYFVB</td>\n",
       "      <td>5cxnSTLzGD1t9xcdmJYFVB</td>\n",
       "      <td>The Mountain Goats</td>\n",
       "    </tr>\n",
       "    <tr>\n",
       "      <th>3</th>\n",
       "      <td>Soul Mate</td>\n",
       "      <td>spotify:track:4IOXp1xFiMh5FtSEGim4CO</td>\n",
       "      <td>4IOXp1xFiMh5FtSEGim4CO</td>\n",
       "      <td>flora cash</td>\n",
       "    </tr>\n",
       "    <tr>\n",
       "      <th>4</th>\n",
       "      <td>Wasn't Expecting That</td>\n",
       "      <td>spotify:track:2a5VluIESm1JP4Qwvo02H8</td>\n",
       "      <td>2a5VluIESm1JP4Qwvo02H8</td>\n",
       "      <td>Jamie Lawson</td>\n",
       "    </tr>\n",
       "  </tbody>\n",
       "</table>\n",
       "</div>"
      ],
      "text/plain": [
       "               song_name                              song_URI  \\\n",
       "0                 Rosyln  spotify:track:1vsFzbhQXTqKJ3YSWxWxmJ   \n",
       "1         Fourth of July  spotify:track:5Qnrgqy1pAm9GyNQOgyVFz   \n",
       "2            No Children  spotify:track:5cxnSTLzGD1t9xcdmJYFVB   \n",
       "3              Soul Mate  spotify:track:4IOXp1xFiMh5FtSEGim4CO   \n",
       "4  Wasn't Expecting That  spotify:track:2a5VluIESm1JP4Qwvo02H8   \n",
       "\n",
       "                  song_ID         song_artist  \n",
       "0  1vsFzbhQXTqKJ3YSWxWxmJ            Bon Iver  \n",
       "1  5Qnrgqy1pAm9GyNQOgyVFz      Sufjan Stevens  \n",
       "2  5cxnSTLzGD1t9xcdmJYFVB  The Mountain Goats  \n",
       "3  4IOXp1xFiMh5FtSEGim4CO          flora cash  \n",
       "4  2a5VluIESm1JP4Qwvo02H8        Jamie Lawson  "
      ]
     },
     "execution_count": 45,
     "metadata": {},
     "output_type": "execute_result"
    }
   ],
   "source": [
    "playlist6_song_info.head()"
   ]
  },
  {
   "cell_type": "markdown",
   "id": "0e8f0630",
   "metadata": {},
   "source": [
    "### Getting data from Indie playlist"
   ]
  },
  {
   "cell_type": "markdown",
   "id": "c7924b97",
   "metadata": {},
   "source": [
    "https://open.spotify.com/playlist/37i9dQZF1EQqkOPvHGajmW\n",
    "    \n",
    "username = Spotify\n",
    "\n",
    "playlist id = 37i9dQZF1EQqkOPvHGajmW"
   ]
  },
  {
   "cell_type": "code",
   "execution_count": 46,
   "id": "0d8a644b",
   "metadata": {},
   "outputs": [],
   "source": [
    "playlist7=sp.user_playlist_tracks(\"Spotify\",\"37i9dQZF1EQqkOPvHGajmW\")"
   ]
  },
  {
   "cell_type": "code",
   "execution_count": 47,
   "id": "5795c06a",
   "metadata": {},
   "outputs": [
    {
     "data": {
      "text/plain": [
       "50"
      ]
     },
     "execution_count": 47,
     "metadata": {},
     "output_type": "execute_result"
    }
   ],
   "source": [
    "len(playlist7[\"items\"])"
   ]
  },
  {
   "cell_type": "code",
   "execution_count": 48,
   "id": "c6376673",
   "metadata": {},
   "outputs": [],
   "source": [
    "song_name=[]\n",
    "song_URI=[]\n",
    "song_ID=[]\n",
    "song_artist=[]\n",
    "playlist7=playlist7[\"items\"]"
   ]
  },
  {
   "cell_type": "code",
   "execution_count": 49,
   "id": "8053f434",
   "metadata": {},
   "outputs": [],
   "source": [
    "for r in playlist7:\n",
    "    song_name.append(r[\"track\"][\"name\"])\n",
    "    song_URI.append(r[\"track\"][\"uri\"])\n",
    "    song_ID.append(r[\"track\"][\"id\"])\n",
    "    song_artist.append(r[\"track\"][\"artists\"][0][\"name\"])"
   ]
  },
  {
   "cell_type": "code",
   "execution_count": 50,
   "id": "8400f4a4",
   "metadata": {},
   "outputs": [],
   "source": [
    "playlist7_song_info=pd.DataFrame({\"song_name\":song_name,\"song_URI\":song_URI,\"song_ID\":song_ID,\"song_artist\":song_artist})"
   ]
  },
  {
   "cell_type": "code",
   "execution_count": 51,
   "id": "7894b7c3",
   "metadata": {},
   "outputs": [
    {
     "data": {
      "text/html": [
       "<div>\n",
       "<style scoped>\n",
       "    .dataframe tbody tr th:only-of-type {\n",
       "        vertical-align: middle;\n",
       "    }\n",
       "\n",
       "    .dataframe tbody tr th {\n",
       "        vertical-align: top;\n",
       "    }\n",
       "\n",
       "    .dataframe thead th {\n",
       "        text-align: right;\n",
       "    }\n",
       "</style>\n",
       "<table border=\"1\" class=\"dataframe\">\n",
       "  <thead>\n",
       "    <tr style=\"text-align: right;\">\n",
       "      <th></th>\n",
       "      <th>song_name</th>\n",
       "      <th>song_URI</th>\n",
       "      <th>song_ID</th>\n",
       "      <th>song_artist</th>\n",
       "    </tr>\n",
       "  </thead>\n",
       "  <tbody>\n",
       "    <tr>\n",
       "      <th>0</th>\n",
       "      <td>Kids</td>\n",
       "      <td>spotify:track:1jJci4qxiYcOHhQR247rEU</td>\n",
       "      <td>1jJci4qxiYcOHhQR247rEU</td>\n",
       "      <td>MGMT</td>\n",
       "    </tr>\n",
       "    <tr>\n",
       "      <th>1</th>\n",
       "      <td>I Love You So</td>\n",
       "      <td>spotify:track:4SqWKzw0CbA05TGszDgMlc</td>\n",
       "      <td>4SqWKzw0CbA05TGszDgMlc</td>\n",
       "      <td>The Walters</td>\n",
       "    </tr>\n",
       "    <tr>\n",
       "      <th>2</th>\n",
       "      <td>Stargazing</td>\n",
       "      <td>spotify:track:0VF7YLIxSQKyNiFL3X6MmN</td>\n",
       "      <td>0VF7YLIxSQKyNiFL3X6MmN</td>\n",
       "      <td>The Neighbourhood</td>\n",
       "    </tr>\n",
       "    <tr>\n",
       "      <th>3</th>\n",
       "      <td>Kids</td>\n",
       "      <td>spotify:track:3pyyGVqWvRMq43qtJBzxe0</td>\n",
       "      <td>3pyyGVqWvRMq43qtJBzxe0</td>\n",
       "      <td>Current Joys</td>\n",
       "    </tr>\n",
       "    <tr>\n",
       "      <th>4</th>\n",
       "      <td>Friends</td>\n",
       "      <td>spotify:track:2jQiSYrwJehQAcuaaQrXnS</td>\n",
       "      <td>2jQiSYrwJehQAcuaaQrXnS</td>\n",
       "      <td>Chase Atlantic</td>\n",
       "    </tr>\n",
       "  </tbody>\n",
       "</table>\n",
       "</div>"
      ],
      "text/plain": [
       "       song_name                              song_URI  \\\n",
       "0           Kids  spotify:track:1jJci4qxiYcOHhQR247rEU   \n",
       "1  I Love You So  spotify:track:4SqWKzw0CbA05TGszDgMlc   \n",
       "2     Stargazing  spotify:track:0VF7YLIxSQKyNiFL3X6MmN   \n",
       "3           Kids  spotify:track:3pyyGVqWvRMq43qtJBzxe0   \n",
       "4        Friends  spotify:track:2jQiSYrwJehQAcuaaQrXnS   \n",
       "\n",
       "                  song_ID        song_artist  \n",
       "0  1jJci4qxiYcOHhQR247rEU               MGMT  \n",
       "1  4SqWKzw0CbA05TGszDgMlc        The Walters  \n",
       "2  0VF7YLIxSQKyNiFL3X6MmN  The Neighbourhood  \n",
       "3  3pyyGVqWvRMq43qtJBzxe0       Current Joys  \n",
       "4  2jQiSYrwJehQAcuaaQrXnS     Chase Atlantic  "
      ]
     },
     "execution_count": 51,
     "metadata": {},
     "output_type": "execute_result"
    }
   ],
   "source": [
    "playlist7_song_info.head()"
   ]
  },
  {
   "cell_type": "markdown",
   "id": "3a06b519",
   "metadata": {},
   "source": [
    "### Getting data from large mixed playlist "
   ]
  },
  {
   "cell_type": "markdown",
   "id": "92a38fd4",
   "metadata": {},
   "source": [
    "https://open.spotify.com/playlist/4uoPRLaoEtvHXuoTuIM387\n",
    "\n",
    "username = Jake Sinclair\n",
    "\n",
    "playlist id = 4uoPRLaoEtvHXuoTuIM387"
   ]
  },
  {
   "cell_type": "code",
   "execution_count": 52,
   "id": "76159719",
   "metadata": {},
   "outputs": [],
   "source": [
    "playlist8=sp.user_playlist_tracks(\"Spotify\",\"4uoPRLaoEtvHXuoTuIM387\")"
   ]
  },
  {
   "cell_type": "code",
   "execution_count": 53,
   "id": "cac41dc0",
   "metadata": {},
   "outputs": [
    {
     "data": {
      "text/plain": [
       "100"
      ]
     },
     "execution_count": 53,
     "metadata": {},
     "output_type": "execute_result"
    }
   ],
   "source": [
    "len(playlist8[\"items\"])"
   ]
  },
  {
   "cell_type": "code",
   "execution_count": 54,
   "id": "1a8c3c6c",
   "metadata": {},
   "outputs": [],
   "source": [
    "# function which handles more than 100 results\n",
    "def get_playlist_tracks(user_id,playlist_id):\n",
    "    results=sp.user_playlist_tracks(user_id,playlist_id)\n",
    "    tracks=results[\"items\"]\n",
    "    while results[\"next\"]:\n",
    "        results = sp.next(results)\n",
    "        tracks.extend(results[\"items\"])\n",
    "    return tracks"
   ]
  },
  {
   "cell_type": "code",
   "execution_count": 55,
   "id": "66220437",
   "metadata": {},
   "outputs": [],
   "source": [
    "playlist8_1=get_playlist_tracks(\"Spotify\",\"4uoPRLaoEtvHXuoTuIM387\")"
   ]
  },
  {
   "cell_type": "code",
   "execution_count": 56,
   "id": "edd943f9",
   "metadata": {},
   "outputs": [
    {
     "data": {
      "text/plain": [
       "1608"
      ]
     },
     "execution_count": 56,
     "metadata": {},
     "output_type": "execute_result"
    }
   ],
   "source": [
    "len(playlist8_1)"
   ]
  },
  {
   "cell_type": "code",
   "execution_count": 57,
   "id": "075d8de2",
   "metadata": {},
   "outputs": [],
   "source": [
    "song_name=[]\n",
    "song_URI=[]\n",
    "song_ID=[]\n",
    "song_artist=[]\n",
    "playlist=playlist8_1"
   ]
  },
  {
   "cell_type": "code",
   "execution_count": 58,
   "id": "2e34c807",
   "metadata": {},
   "outputs": [],
   "source": [
    "for r in playlist8_1:\n",
    "    song_name.append(r[\"track\"][\"name\"])\n",
    "    song_ID.append(r[\"track\"][\"id\"])\n",
    "    song_URI.append(r[\"track\"][\"uri\"])\n",
    "    song_artist.append(r[\"track\"][\"artists\"][0][\"name\"])"
   ]
  },
  {
   "cell_type": "code",
   "execution_count": 59,
   "id": "3e16aab8",
   "metadata": {},
   "outputs": [],
   "source": [
    "playlist8_song_info=pd.DataFrame({\"song_name\":song_name,\"song_URI\":song_URI,\"song_ID\":song_ID,\"song_artist\":song_artist})"
   ]
  },
  {
   "cell_type": "code",
   "execution_count": 60,
   "id": "58039222",
   "metadata": {},
   "outputs": [
    {
     "data": {
      "text/html": [
       "<div>\n",
       "<style scoped>\n",
       "    .dataframe tbody tr th:only-of-type {\n",
       "        vertical-align: middle;\n",
       "    }\n",
       "\n",
       "    .dataframe tbody tr th {\n",
       "        vertical-align: top;\n",
       "    }\n",
       "\n",
       "    .dataframe thead th {\n",
       "        text-align: right;\n",
       "    }\n",
       "</style>\n",
       "<table border=\"1\" class=\"dataframe\">\n",
       "  <thead>\n",
       "    <tr style=\"text-align: right;\">\n",
       "      <th></th>\n",
       "      <th>song_name</th>\n",
       "      <th>song_URI</th>\n",
       "      <th>song_ID</th>\n",
       "      <th>song_artist</th>\n",
       "    </tr>\n",
       "  </thead>\n",
       "  <tbody>\n",
       "    <tr>\n",
       "      <th>0</th>\n",
       "      <td>Naive</td>\n",
       "      <td>spotify:track:7BHPGtpuuWWsvE7cCaMuEU</td>\n",
       "      <td>7BHPGtpuuWWsvE7cCaMuEU</td>\n",
       "      <td>The Kooks</td>\n",
       "    </tr>\n",
       "    <tr>\n",
       "      <th>1</th>\n",
       "      <td>Broken Arrows</td>\n",
       "      <td>spotify:track:3ZoQQ6WKyt2Gu58VoHTPd3</td>\n",
       "      <td>3ZoQQ6WKyt2Gu58VoHTPd3</td>\n",
       "      <td>Avicii</td>\n",
       "    </tr>\n",
       "    <tr>\n",
       "      <th>2</th>\n",
       "      <td>Fallout</td>\n",
       "      <td>spotify:track:2PAeLLcnw42x5ZszOfFz50</td>\n",
       "      <td>2PAeLLcnw42x5ZszOfFz50</td>\n",
       "      <td>Catfish and the Bottlemen</td>\n",
       "    </tr>\n",
       "    <tr>\n",
       "      <th>3</th>\n",
       "      <td>She Moves In Her Own Way</td>\n",
       "      <td>spotify:track:5xoUgPXbMNUmoHU0Enwtwq</td>\n",
       "      <td>5xoUgPXbMNUmoHU0Enwtwq</td>\n",
       "      <td>The Kooks</td>\n",
       "    </tr>\n",
       "    <tr>\n",
       "      <th>4</th>\n",
       "      <td>Mr. Brightside</td>\n",
       "      <td>spotify:track:4L3sku3mPh6uWGNA63VCgu</td>\n",
       "      <td>4L3sku3mPh6uWGNA63VCgu</td>\n",
       "      <td>The Killers</td>\n",
       "    </tr>\n",
       "  </tbody>\n",
       "</table>\n",
       "</div>"
      ],
      "text/plain": [
       "                  song_name                              song_URI  \\\n",
       "0                     Naive  spotify:track:7BHPGtpuuWWsvE7cCaMuEU   \n",
       "1             Broken Arrows  spotify:track:3ZoQQ6WKyt2Gu58VoHTPd3   \n",
       "2                   Fallout  spotify:track:2PAeLLcnw42x5ZszOfFz50   \n",
       "3  She Moves In Her Own Way  spotify:track:5xoUgPXbMNUmoHU0Enwtwq   \n",
       "4            Mr. Brightside  spotify:track:4L3sku3mPh6uWGNA63VCgu   \n",
       "\n",
       "                  song_ID                song_artist  \n",
       "0  7BHPGtpuuWWsvE7cCaMuEU                  The Kooks  \n",
       "1  3ZoQQ6WKyt2Gu58VoHTPd3                     Avicii  \n",
       "2  2PAeLLcnw42x5ZszOfFz50  Catfish and the Bottlemen  \n",
       "3  5xoUgPXbMNUmoHU0Enwtwq                  The Kooks  \n",
       "4  4L3sku3mPh6uWGNA63VCgu                The Killers  "
      ]
     },
     "execution_count": 60,
     "metadata": {},
     "output_type": "execute_result"
    }
   ],
   "source": [
    "playlist8_song_info.head()"
   ]
  },
  {
   "cell_type": "code",
   "execution_count": null,
   "id": "7ed0bb3e",
   "metadata": {},
   "outputs": [],
   "source": []
  },
  {
   "cell_type": "markdown",
   "id": "4b19a4f1",
   "metadata": {},
   "source": [
    "## Concatenate 8 dataframes/playlists"
   ]
  },
  {
   "cell_type": "code",
   "execution_count": 61,
   "id": "4a81cb08",
   "metadata": {},
   "outputs": [],
   "source": [
    "full_playlist=pd.concat([playlist1_song_info,playlist2_song_info,playlist3_song_info,playlist4_song_info,playlist5_song_info,playlist6_song_info,playlist7_song_info,playlist8_song_info], join=\"inner\")"
   ]
  },
  {
   "cell_type": "code",
   "execution_count": 62,
   "id": "0485c2e7",
   "metadata": {},
   "outputs": [],
   "source": [
    "full_playlist.reset_index(drop=True, inplace=True)"
   ]
  },
  {
   "cell_type": "code",
   "execution_count": 63,
   "id": "bde508a9",
   "metadata": {},
   "outputs": [
    {
     "name": "stdout",
     "output_type": "stream",
     "text": [
      "<class 'pandas.core.frame.DataFrame'>\n",
      "RangeIndex: 1918 entries, 0 to 1917\n",
      "Data columns (total 4 columns):\n",
      " #   Column       Non-Null Count  Dtype \n",
      "---  ------       --------------  ----- \n",
      " 0   song_name    1918 non-null   object\n",
      " 1   song_URI     1918 non-null   object\n",
      " 2   song_ID      1917 non-null   object\n",
      " 3   song_artist  1918 non-null   object\n",
      "dtypes: object(4)\n",
      "memory usage: 60.1+ KB\n"
     ]
    }
   ],
   "source": [
    "full_playlist.info()"
   ]
  },
  {
   "cell_type": "markdown",
   "id": "cc07ccf2",
   "metadata": {},
   "source": [
    "## Clean new dataframe"
   ]
  },
  {
   "cell_type": "code",
   "execution_count": 64,
   "id": "9f16d603",
   "metadata": {},
   "outputs": [
    {
     "data": {
      "text/plain": [
       "song_name      0\n",
       "song_URI       0\n",
       "song_ID        1\n",
       "song_artist    0\n",
       "dtype: int64"
      ]
     },
     "execution_count": 64,
     "metadata": {},
     "output_type": "execute_result"
    }
   ],
   "source": [
    "full_playlist.isnull().sum()"
   ]
  },
  {
   "cell_type": "code",
   "execution_count": 65,
   "id": "17e66084",
   "metadata": {},
   "outputs": [],
   "source": [
    "# drop nulls\n",
    "full_playlist.dropna(subset=['song_ID'], inplace=True)"
   ]
  },
  {
   "cell_type": "code",
   "execution_count": 66,
   "id": "f9218bef",
   "metadata": {},
   "outputs": [
    {
     "name": "stdout",
     "output_type": "stream",
     "text": [
      "<class 'pandas.core.frame.DataFrame'>\n",
      "Int64Index: 1917 entries, 0 to 1917\n",
      "Data columns (total 4 columns):\n",
      " #   Column       Non-Null Count  Dtype \n",
      "---  ------       --------------  ----- \n",
      " 0   song_name    1917 non-null   object\n",
      " 1   song_URI     1917 non-null   object\n",
      " 2   song_ID      1917 non-null   object\n",
      " 3   song_artist  1917 non-null   object\n",
      "dtypes: object(4)\n",
      "memory usage: 74.9+ KB\n"
     ]
    }
   ],
   "source": [
    "full_playlist.info()"
   ]
  },
  {
   "cell_type": "code",
   "execution_count": 67,
   "id": "639350e7",
   "metadata": {},
   "outputs": [
    {
     "data": {
      "text/plain": [
       "True"
      ]
     },
     "execution_count": 67,
     "metadata": {},
     "output_type": "execute_result"
    }
   ],
   "source": [
    "# check for repeated songs\n",
    "full_playlist['song_name'].duplicated().any()"
   ]
  },
  {
   "cell_type": "code",
   "execution_count": 68,
   "id": "71579b11",
   "metadata": {},
   "outputs": [
    {
     "data": {
      "text/plain": [
       "108"
      ]
     },
     "execution_count": 68,
     "metadata": {},
     "output_type": "execute_result"
    }
   ],
   "source": [
    "# count duplicated values\n",
    "full_playlist.duplicated(subset='song_name', keep='first').sum()"
   ]
  },
  {
   "cell_type": "code",
   "execution_count": 69,
   "id": "b69166d8",
   "metadata": {},
   "outputs": [],
   "source": [
    "# drop duplicates songs \n",
    "full_playlist=full_playlist.drop_duplicates(subset = 'song_name', keep = 'first')"
   ]
  },
  {
   "cell_type": "code",
   "execution_count": 70,
   "id": "21723518",
   "metadata": {},
   "outputs": [],
   "source": [
    "full_playlist.reset_index(drop=True, inplace=True)"
   ]
  },
  {
   "cell_type": "code",
   "execution_count": 81,
   "id": "5e9ebd1b",
   "metadata": {},
   "outputs": [
    {
     "name": "stdout",
     "output_type": "stream",
     "text": [
      "<class 'pandas.core.frame.DataFrame'>\n",
      "RangeIndex: 1809 entries, 0 to 1808\n",
      "Data columns (total 4 columns):\n",
      " #   Column       Non-Null Count  Dtype \n",
      "---  ------       --------------  ----- \n",
      " 0   song_name    1809 non-null   object\n",
      " 1   song_URI     1809 non-null   object\n",
      " 2   song_ID      1809 non-null   object\n",
      " 3   song_artist  1809 non-null   object\n",
      "dtypes: object(4)\n",
      "memory usage: 56.7+ KB\n"
     ]
    }
   ],
   "source": [
    "full_playlist.info()"
   ]
  },
  {
   "cell_type": "code",
   "execution_count": 82,
   "id": "c6dabb5e",
   "metadata": {},
   "outputs": [
    {
     "data": {
      "text/html": [
       "<div>\n",
       "<style scoped>\n",
       "    .dataframe tbody tr th:only-of-type {\n",
       "        vertical-align: middle;\n",
       "    }\n",
       "\n",
       "    .dataframe tbody tr th {\n",
       "        vertical-align: top;\n",
       "    }\n",
       "\n",
       "    .dataframe thead th {\n",
       "        text-align: right;\n",
       "    }\n",
       "</style>\n",
       "<table border=\"1\" class=\"dataframe\">\n",
       "  <thead>\n",
       "    <tr style=\"text-align: right;\">\n",
       "      <th></th>\n",
       "      <th>song_name</th>\n",
       "      <th>song_URI</th>\n",
       "      <th>song_ID</th>\n",
       "      <th>song_artist</th>\n",
       "    </tr>\n",
       "  </thead>\n",
       "  <tbody>\n",
       "    <tr>\n",
       "      <th>0</th>\n",
       "      <td>A Kiss To Build A Dream On</td>\n",
       "      <td>spotify:track:6GtJqo0vr7DqWOHQtp77cV</td>\n",
       "      <td>6GtJqo0vr7DqWOHQtp77cV</td>\n",
       "      <td>Louis Armstrong</td>\n",
       "    </tr>\n",
       "    <tr>\n",
       "      <th>1</th>\n",
       "      <td>Blue Moon</td>\n",
       "      <td>spotify:track:1pZn8AX1WulW8IO338hE5D</td>\n",
       "      <td>1pZn8AX1WulW8IO338hE5D</td>\n",
       "      <td>Billie Holiday</td>\n",
       "    </tr>\n",
       "    <tr>\n",
       "      <th>2</th>\n",
       "      <td>Stop! In the Name of Love</td>\n",
       "      <td>spotify:track:1x98btCc5EIiCLIxC79kge</td>\n",
       "      <td>1x98btCc5EIiCLIxC79kge</td>\n",
       "      <td>Lisa Ekdahl</td>\n",
       "    </tr>\n",
       "    <tr>\n",
       "      <th>3</th>\n",
       "      <td>Cette nuitl la</td>\n",
       "      <td>spotify:track:1VbQ1nbKIEbiR7JL7htId5</td>\n",
       "      <td>1VbQ1nbKIEbiR7JL7htId5</td>\n",
       "      <td>Les Chauds Lapins</td>\n",
       "    </tr>\n",
       "    <tr>\n",
       "      <th>4</th>\n",
       "      <td>Sov</td>\n",
       "      <td>spotify:track:7DsnKZJY1W7yXQ23w4QfAp</td>\n",
       "      <td>7DsnKZJY1W7yXQ23w4QfAp</td>\n",
       "      <td>Bo Kaspers Orkester</td>\n",
       "    </tr>\n",
       "  </tbody>\n",
       "</table>\n",
       "</div>"
      ],
      "text/plain": [
       "                    song_name                              song_URI  \\\n",
       "0  A Kiss To Build A Dream On  spotify:track:6GtJqo0vr7DqWOHQtp77cV   \n",
       "1                   Blue Moon  spotify:track:1pZn8AX1WulW8IO338hE5D   \n",
       "2   Stop! In the Name of Love  spotify:track:1x98btCc5EIiCLIxC79kge   \n",
       "3              Cette nuitl la  spotify:track:1VbQ1nbKIEbiR7JL7htId5   \n",
       "4                         Sov  spotify:track:7DsnKZJY1W7yXQ23w4QfAp   \n",
       "\n",
       "                  song_ID          song_artist  \n",
       "0  6GtJqo0vr7DqWOHQtp77cV      Louis Armstrong  \n",
       "1  1pZn8AX1WulW8IO338hE5D       Billie Holiday  \n",
       "2  1x98btCc5EIiCLIxC79kge          Lisa Ekdahl  \n",
       "3  1VbQ1nbKIEbiR7JL7htId5    Les Chauds Lapins  \n",
       "4  7DsnKZJY1W7yXQ23w4QfAp  Bo Kaspers Orkester  "
      ]
     },
     "execution_count": 82,
     "metadata": {},
     "output_type": "execute_result"
    }
   ],
   "source": [
    "full_playlist.head()"
   ]
  },
  {
   "cell_type": "markdown",
   "id": "29fc679f",
   "metadata": {},
   "source": [
    "## Merge DF with audio features"
   ]
  },
  {
   "cell_type": "code",
   "execution_count": 73,
   "id": "71b0cf95",
   "metadata": {},
   "outputs": [],
   "source": [
    "from tqdm.notebook import tqdm"
   ]
  },
  {
   "cell_type": "code",
   "execution_count": 75,
   "id": "2d5a99f7",
   "metadata": {},
   "outputs": [
    {
     "data": {
      "application/vnd.jupyter.widget-view+json": {
       "model_id": "b9308ca1c3fd46bfb2b8a69bcefe452f",
       "version_major": 2,
       "version_minor": 0
      },
      "text/plain": [
       "  0%|          | 0/1809 [00:00<?, ?it/s]"
      ]
     },
     "metadata": {},
     "output_type": "display_data"
    }
   ],
   "source": [
    "audio_feats = []\n",
    "for song_ID in tqdm(range(len(full_playlist))):\n",
    "    audio_feats.extend(sp.audio_features(tracks=full_playlist['song_ID'][song_ID]))"
   ]
  },
  {
   "cell_type": "code",
   "execution_count": 77,
   "id": "9954a871",
   "metadata": {},
   "outputs": [
    {
     "data": {
      "text/plain": [
       "dict_keys(['danceability', 'energy', 'key', 'loudness', 'mode', 'speechiness', 'acousticness', 'instrumentalness', 'liveness', 'valence', 'tempo', 'type', 'id', 'uri', 'track_href', 'analysis_url', 'duration_ms', 'time_signature'])"
      ]
     },
     "execution_count": 77,
     "metadata": {},
     "output_type": "execute_result"
    }
   ],
   "source": [
    "audio_feats[0].keys()"
   ]
  },
  {
   "cell_type": "code",
   "execution_count": 78,
   "id": "3cf83246",
   "metadata": {},
   "outputs": [],
   "source": [
    "audio_feat_df = pd.DataFrame(audio_feats)"
   ]
  },
  {
   "cell_type": "code",
   "execution_count": 80,
   "id": "5c708844",
   "metadata": {},
   "outputs": [
    {
     "data": {
      "text/html": [
       "<div>\n",
       "<style scoped>\n",
       "    .dataframe tbody tr th:only-of-type {\n",
       "        vertical-align: middle;\n",
       "    }\n",
       "\n",
       "    .dataframe tbody tr th {\n",
       "        vertical-align: top;\n",
       "    }\n",
       "\n",
       "    .dataframe thead th {\n",
       "        text-align: right;\n",
       "    }\n",
       "</style>\n",
       "<table border=\"1\" class=\"dataframe\">\n",
       "  <thead>\n",
       "    <tr style=\"text-align: right;\">\n",
       "      <th></th>\n",
       "      <th>danceability</th>\n",
       "      <th>energy</th>\n",
       "      <th>key</th>\n",
       "      <th>loudness</th>\n",
       "      <th>mode</th>\n",
       "      <th>speechiness</th>\n",
       "      <th>acousticness</th>\n",
       "      <th>instrumentalness</th>\n",
       "      <th>liveness</th>\n",
       "      <th>valence</th>\n",
       "      <th>tempo</th>\n",
       "      <th>type</th>\n",
       "      <th>id</th>\n",
       "      <th>uri</th>\n",
       "      <th>track_href</th>\n",
       "      <th>analysis_url</th>\n",
       "      <th>duration_ms</th>\n",
       "      <th>time_signature</th>\n",
       "    </tr>\n",
       "  </thead>\n",
       "  <tbody>\n",
       "    <tr>\n",
       "      <th>0</th>\n",
       "      <td>0.587</td>\n",
       "      <td>0.279</td>\n",
       "      <td>1</td>\n",
       "      <td>-10.186</td>\n",
       "      <td>1</td>\n",
       "      <td>0.0356</td>\n",
       "      <td>0.850</td>\n",
       "      <td>0.000641</td>\n",
       "      <td>0.0646</td>\n",
       "      <td>0.418</td>\n",
       "      <td>76.111</td>\n",
       "      <td>audio_features</td>\n",
       "      <td>6GtJqo0vr7DqWOHQtp77cV</td>\n",
       "      <td>spotify:track:6GtJqo0vr7DqWOHQtp77cV</td>\n",
       "      <td>https://api.spotify.com/v1/tracks/6GtJqo0vr7Dq...</td>\n",
       "      <td>https://api.spotify.com/v1/audio-analysis/6GtJ...</td>\n",
       "      <td>271333</td>\n",
       "      <td>4</td>\n",
       "    </tr>\n",
       "    <tr>\n",
       "      <th>1</th>\n",
       "      <td>0.639</td>\n",
       "      <td>0.269</td>\n",
       "      <td>8</td>\n",
       "      <td>-11.435</td>\n",
       "      <td>1</td>\n",
       "      <td>0.0698</td>\n",
       "      <td>0.982</td>\n",
       "      <td>0.120000</td>\n",
       "      <td>0.1410</td>\n",
       "      <td>0.539</td>\n",
       "      <td>124.866</td>\n",
       "      <td>audio_features</td>\n",
       "      <td>1pZn8AX1WulW8IO338hE5D</td>\n",
       "      <td>spotify:track:1pZn8AX1WulW8IO338hE5D</td>\n",
       "      <td>https://api.spotify.com/v1/tracks/1pZn8AX1WulW...</td>\n",
       "      <td>https://api.spotify.com/v1/audio-analysis/1pZn...</td>\n",
       "      <td>207827</td>\n",
       "      <td>4</td>\n",
       "    </tr>\n",
       "    <tr>\n",
       "      <th>2</th>\n",
       "      <td>0.729</td>\n",
       "      <td>0.229</td>\n",
       "      <td>7</td>\n",
       "      <td>-12.156</td>\n",
       "      <td>0</td>\n",
       "      <td>0.0317</td>\n",
       "      <td>0.949</td>\n",
       "      <td>0.066900</td>\n",
       "      <td>0.1310</td>\n",
       "      <td>0.364</td>\n",
       "      <td>107.969</td>\n",
       "      <td>audio_features</td>\n",
       "      <td>1x98btCc5EIiCLIxC79kge</td>\n",
       "      <td>spotify:track:1x98btCc5EIiCLIxC79kge</td>\n",
       "      <td>https://api.spotify.com/v1/tracks/1x98btCc5EIi...</td>\n",
       "      <td>https://api.spotify.com/v1/audio-analysis/1x98...</td>\n",
       "      <td>229480</td>\n",
       "      <td>4</td>\n",
       "    </tr>\n",
       "    <tr>\n",
       "      <th>3</th>\n",
       "      <td>0.588</td>\n",
       "      <td>0.215</td>\n",
       "      <td>5</td>\n",
       "      <td>-10.405</td>\n",
       "      <td>0</td>\n",
       "      <td>0.0961</td>\n",
       "      <td>0.805</td>\n",
       "      <td>0.001460</td>\n",
       "      <td>0.0962</td>\n",
       "      <td>0.771</td>\n",
       "      <td>73.230</td>\n",
       "      <td>audio_features</td>\n",
       "      <td>1VbQ1nbKIEbiR7JL7htId5</td>\n",
       "      <td>spotify:track:1VbQ1nbKIEbiR7JL7htId5</td>\n",
       "      <td>https://api.spotify.com/v1/tracks/1VbQ1nbKIEbi...</td>\n",
       "      <td>https://api.spotify.com/v1/audio-analysis/1VbQ...</td>\n",
       "      <td>150973</td>\n",
       "      <td>4</td>\n",
       "    </tr>\n",
       "    <tr>\n",
       "      <th>4</th>\n",
       "      <td>0.696</td>\n",
       "      <td>0.319</td>\n",
       "      <td>5</td>\n",
       "      <td>-10.619</td>\n",
       "      <td>1</td>\n",
       "      <td>0.0305</td>\n",
       "      <td>0.763</td>\n",
       "      <td>0.000077</td>\n",
       "      <td>0.1150</td>\n",
       "      <td>0.479</td>\n",
       "      <td>81.688</td>\n",
       "      <td>audio_features</td>\n",
       "      <td>7DsnKZJY1W7yXQ23w4QfAp</td>\n",
       "      <td>spotify:track:7DsnKZJY1W7yXQ23w4QfAp</td>\n",
       "      <td>https://api.spotify.com/v1/tracks/7DsnKZJY1W7y...</td>\n",
       "      <td>https://api.spotify.com/v1/audio-analysis/7Dsn...</td>\n",
       "      <td>205750</td>\n",
       "      <td>4</td>\n",
       "    </tr>\n",
       "  </tbody>\n",
       "</table>\n",
       "</div>"
      ],
      "text/plain": [
       "   danceability  energy  key  loudness  mode  speechiness  acousticness  \\\n",
       "0         0.587   0.279    1   -10.186     1       0.0356         0.850   \n",
       "1         0.639   0.269    8   -11.435     1       0.0698         0.982   \n",
       "2         0.729   0.229    7   -12.156     0       0.0317         0.949   \n",
       "3         0.588   0.215    5   -10.405     0       0.0961         0.805   \n",
       "4         0.696   0.319    5   -10.619     1       0.0305         0.763   \n",
       "\n",
       "   instrumentalness  liveness  valence    tempo            type  \\\n",
       "0          0.000641    0.0646    0.418   76.111  audio_features   \n",
       "1          0.120000    0.1410    0.539  124.866  audio_features   \n",
       "2          0.066900    0.1310    0.364  107.969  audio_features   \n",
       "3          0.001460    0.0962    0.771   73.230  audio_features   \n",
       "4          0.000077    0.1150    0.479   81.688  audio_features   \n",
       "\n",
       "                       id                                   uri  \\\n",
       "0  6GtJqo0vr7DqWOHQtp77cV  spotify:track:6GtJqo0vr7DqWOHQtp77cV   \n",
       "1  1pZn8AX1WulW8IO338hE5D  spotify:track:1pZn8AX1WulW8IO338hE5D   \n",
       "2  1x98btCc5EIiCLIxC79kge  spotify:track:1x98btCc5EIiCLIxC79kge   \n",
       "3  1VbQ1nbKIEbiR7JL7htId5  spotify:track:1VbQ1nbKIEbiR7JL7htId5   \n",
       "4  7DsnKZJY1W7yXQ23w4QfAp  spotify:track:7DsnKZJY1W7yXQ23w4QfAp   \n",
       "\n",
       "                                          track_href  \\\n",
       "0  https://api.spotify.com/v1/tracks/6GtJqo0vr7Dq...   \n",
       "1  https://api.spotify.com/v1/tracks/1pZn8AX1WulW...   \n",
       "2  https://api.spotify.com/v1/tracks/1x98btCc5EIi...   \n",
       "3  https://api.spotify.com/v1/tracks/1VbQ1nbKIEbi...   \n",
       "4  https://api.spotify.com/v1/tracks/7DsnKZJY1W7y...   \n",
       "\n",
       "                                        analysis_url  duration_ms  \\\n",
       "0  https://api.spotify.com/v1/audio-analysis/6GtJ...       271333   \n",
       "1  https://api.spotify.com/v1/audio-analysis/1pZn...       207827   \n",
       "2  https://api.spotify.com/v1/audio-analysis/1x98...       229480   \n",
       "3  https://api.spotify.com/v1/audio-analysis/1VbQ...       150973   \n",
       "4  https://api.spotify.com/v1/audio-analysis/7Dsn...       205750   \n",
       "\n",
       "   time_signature  \n",
       "0               4  \n",
       "1               4  \n",
       "2               4  \n",
       "3               4  \n",
       "4               4  "
      ]
     },
     "execution_count": 80,
     "metadata": {},
     "output_type": "execute_result"
    }
   ],
   "source": [
    "audio_feat_df.head()"
   ]
  },
  {
   "cell_type": "code",
   "execution_count": 84,
   "id": "0588cccf",
   "metadata": {},
   "outputs": [],
   "source": [
    "#merge 2 dfs\n",
    "\n",
    "final_playlist=full_playlist.merge(audio_feat_df, left_on='song_ID', right_on='id')"
   ]
  },
  {
   "cell_type": "code",
   "execution_count": 85,
   "id": "01e00122",
   "metadata": {},
   "outputs": [
    {
     "data": {
      "text/html": [
       "<div>\n",
       "<style scoped>\n",
       "    .dataframe tbody tr th:only-of-type {\n",
       "        vertical-align: middle;\n",
       "    }\n",
       "\n",
       "    .dataframe tbody tr th {\n",
       "        vertical-align: top;\n",
       "    }\n",
       "\n",
       "    .dataframe thead th {\n",
       "        text-align: right;\n",
       "    }\n",
       "</style>\n",
       "<table border=\"1\" class=\"dataframe\">\n",
       "  <thead>\n",
       "    <tr style=\"text-align: right;\">\n",
       "      <th></th>\n",
       "      <th>song_name</th>\n",
       "      <th>song_URI</th>\n",
       "      <th>song_ID</th>\n",
       "      <th>song_artist</th>\n",
       "      <th>danceability</th>\n",
       "      <th>energy</th>\n",
       "      <th>key</th>\n",
       "      <th>loudness</th>\n",
       "      <th>mode</th>\n",
       "      <th>speechiness</th>\n",
       "      <th>...</th>\n",
       "      <th>liveness</th>\n",
       "      <th>valence</th>\n",
       "      <th>tempo</th>\n",
       "      <th>type</th>\n",
       "      <th>id</th>\n",
       "      <th>uri</th>\n",
       "      <th>track_href</th>\n",
       "      <th>analysis_url</th>\n",
       "      <th>duration_ms</th>\n",
       "      <th>time_signature</th>\n",
       "    </tr>\n",
       "  </thead>\n",
       "  <tbody>\n",
       "    <tr>\n",
       "      <th>0</th>\n",
       "      <td>A Kiss To Build A Dream On</td>\n",
       "      <td>spotify:track:6GtJqo0vr7DqWOHQtp77cV</td>\n",
       "      <td>6GtJqo0vr7DqWOHQtp77cV</td>\n",
       "      <td>Louis Armstrong</td>\n",
       "      <td>0.587</td>\n",
       "      <td>0.279</td>\n",
       "      <td>1</td>\n",
       "      <td>-10.186</td>\n",
       "      <td>1</td>\n",
       "      <td>0.0356</td>\n",
       "      <td>...</td>\n",
       "      <td>0.0646</td>\n",
       "      <td>0.418</td>\n",
       "      <td>76.111</td>\n",
       "      <td>audio_features</td>\n",
       "      <td>6GtJqo0vr7DqWOHQtp77cV</td>\n",
       "      <td>spotify:track:6GtJqo0vr7DqWOHQtp77cV</td>\n",
       "      <td>https://api.spotify.com/v1/tracks/6GtJqo0vr7Dq...</td>\n",
       "      <td>https://api.spotify.com/v1/audio-analysis/6GtJ...</td>\n",
       "      <td>271333</td>\n",
       "      <td>4</td>\n",
       "    </tr>\n",
       "    <tr>\n",
       "      <th>1</th>\n",
       "      <td>Blue Moon</td>\n",
       "      <td>spotify:track:1pZn8AX1WulW8IO338hE5D</td>\n",
       "      <td>1pZn8AX1WulW8IO338hE5D</td>\n",
       "      <td>Billie Holiday</td>\n",
       "      <td>0.639</td>\n",
       "      <td>0.269</td>\n",
       "      <td>8</td>\n",
       "      <td>-11.435</td>\n",
       "      <td>1</td>\n",
       "      <td>0.0698</td>\n",
       "      <td>...</td>\n",
       "      <td>0.1410</td>\n",
       "      <td>0.539</td>\n",
       "      <td>124.866</td>\n",
       "      <td>audio_features</td>\n",
       "      <td>1pZn8AX1WulW8IO338hE5D</td>\n",
       "      <td>spotify:track:1pZn8AX1WulW8IO338hE5D</td>\n",
       "      <td>https://api.spotify.com/v1/tracks/1pZn8AX1WulW...</td>\n",
       "      <td>https://api.spotify.com/v1/audio-analysis/1pZn...</td>\n",
       "      <td>207827</td>\n",
       "      <td>4</td>\n",
       "    </tr>\n",
       "    <tr>\n",
       "      <th>2</th>\n",
       "      <td>Stop! In the Name of Love</td>\n",
       "      <td>spotify:track:1x98btCc5EIiCLIxC79kge</td>\n",
       "      <td>1x98btCc5EIiCLIxC79kge</td>\n",
       "      <td>Lisa Ekdahl</td>\n",
       "      <td>0.729</td>\n",
       "      <td>0.229</td>\n",
       "      <td>7</td>\n",
       "      <td>-12.156</td>\n",
       "      <td>0</td>\n",
       "      <td>0.0317</td>\n",
       "      <td>...</td>\n",
       "      <td>0.1310</td>\n",
       "      <td>0.364</td>\n",
       "      <td>107.969</td>\n",
       "      <td>audio_features</td>\n",
       "      <td>1x98btCc5EIiCLIxC79kge</td>\n",
       "      <td>spotify:track:1x98btCc5EIiCLIxC79kge</td>\n",
       "      <td>https://api.spotify.com/v1/tracks/1x98btCc5EIi...</td>\n",
       "      <td>https://api.spotify.com/v1/audio-analysis/1x98...</td>\n",
       "      <td>229480</td>\n",
       "      <td>4</td>\n",
       "    </tr>\n",
       "    <tr>\n",
       "      <th>3</th>\n",
       "      <td>Cette nuitl la</td>\n",
       "      <td>spotify:track:1VbQ1nbKIEbiR7JL7htId5</td>\n",
       "      <td>1VbQ1nbKIEbiR7JL7htId5</td>\n",
       "      <td>Les Chauds Lapins</td>\n",
       "      <td>0.588</td>\n",
       "      <td>0.215</td>\n",
       "      <td>5</td>\n",
       "      <td>-10.405</td>\n",
       "      <td>0</td>\n",
       "      <td>0.0961</td>\n",
       "      <td>...</td>\n",
       "      <td>0.0962</td>\n",
       "      <td>0.771</td>\n",
       "      <td>73.230</td>\n",
       "      <td>audio_features</td>\n",
       "      <td>1VbQ1nbKIEbiR7JL7htId5</td>\n",
       "      <td>spotify:track:1VbQ1nbKIEbiR7JL7htId5</td>\n",
       "      <td>https://api.spotify.com/v1/tracks/1VbQ1nbKIEbi...</td>\n",
       "      <td>https://api.spotify.com/v1/audio-analysis/1VbQ...</td>\n",
       "      <td>150973</td>\n",
       "      <td>4</td>\n",
       "    </tr>\n",
       "    <tr>\n",
       "      <th>4</th>\n",
       "      <td>Sov</td>\n",
       "      <td>spotify:track:7DsnKZJY1W7yXQ23w4QfAp</td>\n",
       "      <td>7DsnKZJY1W7yXQ23w4QfAp</td>\n",
       "      <td>Bo Kaspers Orkester</td>\n",
       "      <td>0.696</td>\n",
       "      <td>0.319</td>\n",
       "      <td>5</td>\n",
       "      <td>-10.619</td>\n",
       "      <td>1</td>\n",
       "      <td>0.0305</td>\n",
       "      <td>...</td>\n",
       "      <td>0.1150</td>\n",
       "      <td>0.479</td>\n",
       "      <td>81.688</td>\n",
       "      <td>audio_features</td>\n",
       "      <td>7DsnKZJY1W7yXQ23w4QfAp</td>\n",
       "      <td>spotify:track:7DsnKZJY1W7yXQ23w4QfAp</td>\n",
       "      <td>https://api.spotify.com/v1/tracks/7DsnKZJY1W7y...</td>\n",
       "      <td>https://api.spotify.com/v1/audio-analysis/7Dsn...</td>\n",
       "      <td>205750</td>\n",
       "      <td>4</td>\n",
       "    </tr>\n",
       "  </tbody>\n",
       "</table>\n",
       "<p>5 rows × 22 columns</p>\n",
       "</div>"
      ],
      "text/plain": [
       "                    song_name                              song_URI  \\\n",
       "0  A Kiss To Build A Dream On  spotify:track:6GtJqo0vr7DqWOHQtp77cV   \n",
       "1                   Blue Moon  spotify:track:1pZn8AX1WulW8IO338hE5D   \n",
       "2   Stop! In the Name of Love  spotify:track:1x98btCc5EIiCLIxC79kge   \n",
       "3              Cette nuitl la  spotify:track:1VbQ1nbKIEbiR7JL7htId5   \n",
       "4                         Sov  spotify:track:7DsnKZJY1W7yXQ23w4QfAp   \n",
       "\n",
       "                  song_ID          song_artist  danceability  energy  key  \\\n",
       "0  6GtJqo0vr7DqWOHQtp77cV      Louis Armstrong         0.587   0.279    1   \n",
       "1  1pZn8AX1WulW8IO338hE5D       Billie Holiday         0.639   0.269    8   \n",
       "2  1x98btCc5EIiCLIxC79kge          Lisa Ekdahl         0.729   0.229    7   \n",
       "3  1VbQ1nbKIEbiR7JL7htId5    Les Chauds Lapins         0.588   0.215    5   \n",
       "4  7DsnKZJY1W7yXQ23w4QfAp  Bo Kaspers Orkester         0.696   0.319    5   \n",
       "\n",
       "   loudness  mode  speechiness  ...  liveness  valence    tempo  \\\n",
       "0   -10.186     1       0.0356  ...    0.0646    0.418   76.111   \n",
       "1   -11.435     1       0.0698  ...    0.1410    0.539  124.866   \n",
       "2   -12.156     0       0.0317  ...    0.1310    0.364  107.969   \n",
       "3   -10.405     0       0.0961  ...    0.0962    0.771   73.230   \n",
       "4   -10.619     1       0.0305  ...    0.1150    0.479   81.688   \n",
       "\n",
       "             type                      id  \\\n",
       "0  audio_features  6GtJqo0vr7DqWOHQtp77cV   \n",
       "1  audio_features  1pZn8AX1WulW8IO338hE5D   \n",
       "2  audio_features  1x98btCc5EIiCLIxC79kge   \n",
       "3  audio_features  1VbQ1nbKIEbiR7JL7htId5   \n",
       "4  audio_features  7DsnKZJY1W7yXQ23w4QfAp   \n",
       "\n",
       "                                    uri  \\\n",
       "0  spotify:track:6GtJqo0vr7DqWOHQtp77cV   \n",
       "1  spotify:track:1pZn8AX1WulW8IO338hE5D   \n",
       "2  spotify:track:1x98btCc5EIiCLIxC79kge   \n",
       "3  spotify:track:1VbQ1nbKIEbiR7JL7htId5   \n",
       "4  spotify:track:7DsnKZJY1W7yXQ23w4QfAp   \n",
       "\n",
       "                                          track_href  \\\n",
       "0  https://api.spotify.com/v1/tracks/6GtJqo0vr7Dq...   \n",
       "1  https://api.spotify.com/v1/tracks/1pZn8AX1WulW...   \n",
       "2  https://api.spotify.com/v1/tracks/1x98btCc5EIi...   \n",
       "3  https://api.spotify.com/v1/tracks/1VbQ1nbKIEbi...   \n",
       "4  https://api.spotify.com/v1/tracks/7DsnKZJY1W7y...   \n",
       "\n",
       "                                        analysis_url duration_ms  \\\n",
       "0  https://api.spotify.com/v1/audio-analysis/6GtJ...      271333   \n",
       "1  https://api.spotify.com/v1/audio-analysis/1pZn...      207827   \n",
       "2  https://api.spotify.com/v1/audio-analysis/1x98...      229480   \n",
       "3  https://api.spotify.com/v1/audio-analysis/1VbQ...      150973   \n",
       "4  https://api.spotify.com/v1/audio-analysis/7Dsn...      205750   \n",
       "\n",
       "  time_signature  \n",
       "0              4  \n",
       "1              4  \n",
       "2              4  \n",
       "3              4  \n",
       "4              4  \n",
       "\n",
       "[5 rows x 22 columns]"
      ]
     },
     "execution_count": 85,
     "metadata": {},
     "output_type": "execute_result"
    }
   ],
   "source": [
    "final_playlist.head()"
   ]
  },
  {
   "cell_type": "code",
   "execution_count": 86,
   "id": "b22e013a",
   "metadata": {},
   "outputs": [],
   "source": [
    "final_playlist.drop(['song_URI', 'song_ID'], axis = 1, inplace = True)"
   ]
  },
  {
   "cell_type": "code",
   "execution_count": 88,
   "id": "18e3a51c",
   "metadata": {},
   "outputs": [
    {
     "data": {
      "text/html": [
       "<div>\n",
       "<style scoped>\n",
       "    .dataframe tbody tr th:only-of-type {\n",
       "        vertical-align: middle;\n",
       "    }\n",
       "\n",
       "    .dataframe tbody tr th {\n",
       "        vertical-align: top;\n",
       "    }\n",
       "\n",
       "    .dataframe thead th {\n",
       "        text-align: right;\n",
       "    }\n",
       "</style>\n",
       "<table border=\"1\" class=\"dataframe\">\n",
       "  <thead>\n",
       "    <tr style=\"text-align: right;\">\n",
       "      <th></th>\n",
       "      <th>song_name</th>\n",
       "      <th>song_artist</th>\n",
       "      <th>danceability</th>\n",
       "      <th>energy</th>\n",
       "      <th>key</th>\n",
       "      <th>loudness</th>\n",
       "      <th>mode</th>\n",
       "      <th>speechiness</th>\n",
       "      <th>acousticness</th>\n",
       "      <th>instrumentalness</th>\n",
       "      <th>liveness</th>\n",
       "      <th>valence</th>\n",
       "      <th>tempo</th>\n",
       "      <th>type</th>\n",
       "      <th>id</th>\n",
       "      <th>uri</th>\n",
       "      <th>track_href</th>\n",
       "      <th>analysis_url</th>\n",
       "      <th>duration_ms</th>\n",
       "      <th>time_signature</th>\n",
       "    </tr>\n",
       "  </thead>\n",
       "  <tbody>\n",
       "    <tr>\n",
       "      <th>0</th>\n",
       "      <td>A Kiss To Build A Dream On</td>\n",
       "      <td>Louis Armstrong</td>\n",
       "      <td>0.587</td>\n",
       "      <td>0.279</td>\n",
       "      <td>1</td>\n",
       "      <td>-10.186</td>\n",
       "      <td>1</td>\n",
       "      <td>0.0356</td>\n",
       "      <td>0.850</td>\n",
       "      <td>0.000641</td>\n",
       "      <td>0.0646</td>\n",
       "      <td>0.418</td>\n",
       "      <td>76.111</td>\n",
       "      <td>audio_features</td>\n",
       "      <td>6GtJqo0vr7DqWOHQtp77cV</td>\n",
       "      <td>spotify:track:6GtJqo0vr7DqWOHQtp77cV</td>\n",
       "      <td>https://api.spotify.com/v1/tracks/6GtJqo0vr7Dq...</td>\n",
       "      <td>https://api.spotify.com/v1/audio-analysis/6GtJ...</td>\n",
       "      <td>271333</td>\n",
       "      <td>4</td>\n",
       "    </tr>\n",
       "    <tr>\n",
       "      <th>1</th>\n",
       "      <td>Blue Moon</td>\n",
       "      <td>Billie Holiday</td>\n",
       "      <td>0.639</td>\n",
       "      <td>0.269</td>\n",
       "      <td>8</td>\n",
       "      <td>-11.435</td>\n",
       "      <td>1</td>\n",
       "      <td>0.0698</td>\n",
       "      <td>0.982</td>\n",
       "      <td>0.120000</td>\n",
       "      <td>0.1410</td>\n",
       "      <td>0.539</td>\n",
       "      <td>124.866</td>\n",
       "      <td>audio_features</td>\n",
       "      <td>1pZn8AX1WulW8IO338hE5D</td>\n",
       "      <td>spotify:track:1pZn8AX1WulW8IO338hE5D</td>\n",
       "      <td>https://api.spotify.com/v1/tracks/1pZn8AX1WulW...</td>\n",
       "      <td>https://api.spotify.com/v1/audio-analysis/1pZn...</td>\n",
       "      <td>207827</td>\n",
       "      <td>4</td>\n",
       "    </tr>\n",
       "    <tr>\n",
       "      <th>2</th>\n",
       "      <td>Stop! In the Name of Love</td>\n",
       "      <td>Lisa Ekdahl</td>\n",
       "      <td>0.729</td>\n",
       "      <td>0.229</td>\n",
       "      <td>7</td>\n",
       "      <td>-12.156</td>\n",
       "      <td>0</td>\n",
       "      <td>0.0317</td>\n",
       "      <td>0.949</td>\n",
       "      <td>0.066900</td>\n",
       "      <td>0.1310</td>\n",
       "      <td>0.364</td>\n",
       "      <td>107.969</td>\n",
       "      <td>audio_features</td>\n",
       "      <td>1x98btCc5EIiCLIxC79kge</td>\n",
       "      <td>spotify:track:1x98btCc5EIiCLIxC79kge</td>\n",
       "      <td>https://api.spotify.com/v1/tracks/1x98btCc5EIi...</td>\n",
       "      <td>https://api.spotify.com/v1/audio-analysis/1x98...</td>\n",
       "      <td>229480</td>\n",
       "      <td>4</td>\n",
       "    </tr>\n",
       "    <tr>\n",
       "      <th>3</th>\n",
       "      <td>Cette nuitl la</td>\n",
       "      <td>Les Chauds Lapins</td>\n",
       "      <td>0.588</td>\n",
       "      <td>0.215</td>\n",
       "      <td>5</td>\n",
       "      <td>-10.405</td>\n",
       "      <td>0</td>\n",
       "      <td>0.0961</td>\n",
       "      <td>0.805</td>\n",
       "      <td>0.001460</td>\n",
       "      <td>0.0962</td>\n",
       "      <td>0.771</td>\n",
       "      <td>73.230</td>\n",
       "      <td>audio_features</td>\n",
       "      <td>1VbQ1nbKIEbiR7JL7htId5</td>\n",
       "      <td>spotify:track:1VbQ1nbKIEbiR7JL7htId5</td>\n",
       "      <td>https://api.spotify.com/v1/tracks/1VbQ1nbKIEbi...</td>\n",
       "      <td>https://api.spotify.com/v1/audio-analysis/1VbQ...</td>\n",
       "      <td>150973</td>\n",
       "      <td>4</td>\n",
       "    </tr>\n",
       "    <tr>\n",
       "      <th>4</th>\n",
       "      <td>Sov</td>\n",
       "      <td>Bo Kaspers Orkester</td>\n",
       "      <td>0.696</td>\n",
       "      <td>0.319</td>\n",
       "      <td>5</td>\n",
       "      <td>-10.619</td>\n",
       "      <td>1</td>\n",
       "      <td>0.0305</td>\n",
       "      <td>0.763</td>\n",
       "      <td>0.000077</td>\n",
       "      <td>0.1150</td>\n",
       "      <td>0.479</td>\n",
       "      <td>81.688</td>\n",
       "      <td>audio_features</td>\n",
       "      <td>7DsnKZJY1W7yXQ23w4QfAp</td>\n",
       "      <td>spotify:track:7DsnKZJY1W7yXQ23w4QfAp</td>\n",
       "      <td>https://api.spotify.com/v1/tracks/7DsnKZJY1W7y...</td>\n",
       "      <td>https://api.spotify.com/v1/audio-analysis/7Dsn...</td>\n",
       "      <td>205750</td>\n",
       "      <td>4</td>\n",
       "    </tr>\n",
       "  </tbody>\n",
       "</table>\n",
       "</div>"
      ],
      "text/plain": [
       "                    song_name          song_artist  danceability  energy  key  \\\n",
       "0  A Kiss To Build A Dream On      Louis Armstrong         0.587   0.279    1   \n",
       "1                   Blue Moon       Billie Holiday         0.639   0.269    8   \n",
       "2   Stop! In the Name of Love          Lisa Ekdahl         0.729   0.229    7   \n",
       "3              Cette nuitl la    Les Chauds Lapins         0.588   0.215    5   \n",
       "4                         Sov  Bo Kaspers Orkester         0.696   0.319    5   \n",
       "\n",
       "   loudness  mode  speechiness  acousticness  instrumentalness  liveness  \\\n",
       "0   -10.186     1       0.0356         0.850          0.000641    0.0646   \n",
       "1   -11.435     1       0.0698         0.982          0.120000    0.1410   \n",
       "2   -12.156     0       0.0317         0.949          0.066900    0.1310   \n",
       "3   -10.405     0       0.0961         0.805          0.001460    0.0962   \n",
       "4   -10.619     1       0.0305         0.763          0.000077    0.1150   \n",
       "\n",
       "   valence    tempo            type                      id  \\\n",
       "0    0.418   76.111  audio_features  6GtJqo0vr7DqWOHQtp77cV   \n",
       "1    0.539  124.866  audio_features  1pZn8AX1WulW8IO338hE5D   \n",
       "2    0.364  107.969  audio_features  1x98btCc5EIiCLIxC79kge   \n",
       "3    0.771   73.230  audio_features  1VbQ1nbKIEbiR7JL7htId5   \n",
       "4    0.479   81.688  audio_features  7DsnKZJY1W7yXQ23w4QfAp   \n",
       "\n",
       "                                    uri  \\\n",
       "0  spotify:track:6GtJqo0vr7DqWOHQtp77cV   \n",
       "1  spotify:track:1pZn8AX1WulW8IO338hE5D   \n",
       "2  spotify:track:1x98btCc5EIiCLIxC79kge   \n",
       "3  spotify:track:1VbQ1nbKIEbiR7JL7htId5   \n",
       "4  spotify:track:7DsnKZJY1W7yXQ23w4QfAp   \n",
       "\n",
       "                                          track_href  \\\n",
       "0  https://api.spotify.com/v1/tracks/6GtJqo0vr7Dq...   \n",
       "1  https://api.spotify.com/v1/tracks/1pZn8AX1WulW...   \n",
       "2  https://api.spotify.com/v1/tracks/1x98btCc5EIi...   \n",
       "3  https://api.spotify.com/v1/tracks/1VbQ1nbKIEbi...   \n",
       "4  https://api.spotify.com/v1/tracks/7DsnKZJY1W7y...   \n",
       "\n",
       "                                        analysis_url  duration_ms  \\\n",
       "0  https://api.spotify.com/v1/audio-analysis/6GtJ...       271333   \n",
       "1  https://api.spotify.com/v1/audio-analysis/1pZn...       207827   \n",
       "2  https://api.spotify.com/v1/audio-analysis/1x98...       229480   \n",
       "3  https://api.spotify.com/v1/audio-analysis/1VbQ...       150973   \n",
       "4  https://api.spotify.com/v1/audio-analysis/7Dsn...       205750   \n",
       "\n",
       "   time_signature  \n",
       "0               4  \n",
       "1               4  \n",
       "2               4  \n",
       "3               4  \n",
       "4               4  "
      ]
     },
     "execution_count": 88,
     "metadata": {},
     "output_type": "execute_result"
    }
   ],
   "source": [
    "final_playlist.head()"
   ]
  }
 ],
 "metadata": {
  "kernelspec": {
   "display_name": "Python 3 (ipykernel)",
   "language": "python",
   "name": "python3"
  },
  "language_info": {
   "codemirror_mode": {
    "name": "ipython",
    "version": 3
   },
   "file_extension": ".py",
   "mimetype": "text/x-python",
   "name": "python",
   "nbconvert_exporter": "python",
   "pygments_lexer": "ipython3",
   "version": "3.8.12"
  },
  "toc": {
   "base_numbering": 1,
   "nav_menu": {},
   "number_sections": true,
   "sideBar": true,
   "skip_h1_title": false,
   "title_cell": "Table of Contents",
   "title_sidebar": "Contents",
   "toc_cell": false,
   "toc_position": {},
   "toc_section_display": true,
   "toc_window_display": true
  }
 },
 "nbformat": 4,
 "nbformat_minor": 5
}
