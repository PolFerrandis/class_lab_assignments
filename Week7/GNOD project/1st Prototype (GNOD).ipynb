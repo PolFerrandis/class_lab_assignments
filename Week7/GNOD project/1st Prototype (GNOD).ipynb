{
 "cells": [
  {
   "cell_type": "markdown",
   "id": "20372d31",
   "metadata": {},
   "source": [
    "# 1st Prototype (GNOD)"
   ]
  },
  {
   "cell_type": "markdown",
   "id": "9623d2f2",
   "metadata": {},
   "source": [
    "## Importing libraries and reading df"
   ]
  },
  {
   "cell_type": "code",
   "execution_count": 1,
   "id": "d6a00f0b",
   "metadata": {},
   "outputs": [],
   "source": [
    "import pandas as pd\n",
    "import random"
   ]
  },
  {
   "cell_type": "code",
   "execution_count": 2,
   "id": "013c51e7",
   "metadata": {},
   "outputs": [],
   "source": [
    "top_hot_100_songs = pd.read_csv(\"top_hot_100.csv\")"
   ]
  },
  {
   "cell_type": "code",
   "execution_count": 3,
   "id": "1cfb7aec",
   "metadata": {
    "scrolled": true
   },
   "outputs": [
    {
     "data": {
      "text/html": [
       "<div>\n",
       "<style scoped>\n",
       "    .dataframe tbody tr th:only-of-type {\n",
       "        vertical-align: middle;\n",
       "    }\n",
       "\n",
       "    .dataframe tbody tr th {\n",
       "        vertical-align: top;\n",
       "    }\n",
       "\n",
       "    .dataframe thead th {\n",
       "        text-align: right;\n",
       "    }\n",
       "</style>\n",
       "<table border=\"1\" class=\"dataframe\">\n",
       "  <thead>\n",
       "    <tr style=\"text-align: right;\">\n",
       "      <th></th>\n",
       "      <th>song</th>\n",
       "      <th>artist</th>\n",
       "      <th>rank</th>\n",
       "    </tr>\n",
       "  </thead>\n",
       "  <tbody>\n",
       "    <tr>\n",
       "      <th>0</th>\n",
       "      <td>All Too Well (Taylor's Version)</td>\n",
       "      <td>Taylor Swift</td>\n",
       "      <td>1</td>\n",
       "    </tr>\n",
       "    <tr>\n",
       "      <th>1</th>\n",
       "      <td>Easy On Me</td>\n",
       "      <td>Adele</td>\n",
       "      <td>2</td>\n",
       "    </tr>\n",
       "    <tr>\n",
       "      <th>2</th>\n",
       "      <td>Stay</td>\n",
       "      <td>The Kid LAROI &amp; Justin Bieber</td>\n",
       "      <td>3</td>\n",
       "    </tr>\n",
       "    <tr>\n",
       "      <th>3</th>\n",
       "      <td>Industry Baby</td>\n",
       "      <td>Lil Nas X &amp; Jack Harlow</td>\n",
       "      <td>4</td>\n",
       "    </tr>\n",
       "    <tr>\n",
       "      <th>4</th>\n",
       "      <td>Smokin Out The Window</td>\n",
       "      <td>Silk Sonic (Bruno Mars &amp; Anderson .Paak)</td>\n",
       "      <td>5</td>\n",
       "    </tr>\n",
       "  </tbody>\n",
       "</table>\n",
       "</div>"
      ],
      "text/plain": [
       "                              song                                    artist  \\\n",
       "0  All Too Well (Taylor's Version)                              Taylor Swift   \n",
       "1                       Easy On Me                                     Adele   \n",
       "2                             Stay             The Kid LAROI & Justin Bieber   \n",
       "3                    Industry Baby                   Lil Nas X & Jack Harlow   \n",
       "4            Smokin Out The Window  Silk Sonic (Bruno Mars & Anderson .Paak)   \n",
       "\n",
       "   rank  \n",
       "0     1  \n",
       "1     2  \n",
       "2     3  \n",
       "3     4  \n",
       "4     5  "
      ]
     },
     "execution_count": 3,
     "metadata": {},
     "output_type": "execute_result"
    }
   ],
   "source": [
    "top_hot_100_songs.head()"
   ]
  },
  {
   "cell_type": "markdown",
   "id": "78b920da",
   "metadata": {},
   "source": [
    "## Formatting the dataframe and lowercasing"
   ]
  },
  {
   "cell_type": "code",
   "execution_count": 4,
   "id": "7ee51d50",
   "metadata": {},
   "outputs": [],
   "source": [
    "top_hot_100_songs[\"song\"] = top_hot_100_songs[\"song\"].apply(lambda x: x.lower())\n",
    "\n",
    "top_hot_100_songs[\"artist\"] = top_hot_100_songs[\"artist\"].apply(lambda x: x.lower())"
   ]
  },
  {
   "cell_type": "code",
   "execution_count": 5,
   "id": "48a01b38",
   "metadata": {
    "scrolled": true
   },
   "outputs": [
    {
     "data": {
      "text/html": [
       "<div>\n",
       "<style scoped>\n",
       "    .dataframe tbody tr th:only-of-type {\n",
       "        vertical-align: middle;\n",
       "    }\n",
       "\n",
       "    .dataframe tbody tr th {\n",
       "        vertical-align: top;\n",
       "    }\n",
       "\n",
       "    .dataframe thead th {\n",
       "        text-align: right;\n",
       "    }\n",
       "</style>\n",
       "<table border=\"1\" class=\"dataframe\">\n",
       "  <thead>\n",
       "    <tr style=\"text-align: right;\">\n",
       "      <th></th>\n",
       "      <th>song</th>\n",
       "      <th>artist</th>\n",
       "      <th>rank</th>\n",
       "    </tr>\n",
       "  </thead>\n",
       "  <tbody>\n",
       "    <tr>\n",
       "      <th>0</th>\n",
       "      <td>all too well (taylor's version)</td>\n",
       "      <td>taylor swift</td>\n",
       "      <td>1</td>\n",
       "    </tr>\n",
       "    <tr>\n",
       "      <th>1</th>\n",
       "      <td>easy on me</td>\n",
       "      <td>adele</td>\n",
       "      <td>2</td>\n",
       "    </tr>\n",
       "    <tr>\n",
       "      <th>2</th>\n",
       "      <td>stay</td>\n",
       "      <td>the kid laroi &amp; justin bieber</td>\n",
       "      <td>3</td>\n",
       "    </tr>\n",
       "    <tr>\n",
       "      <th>3</th>\n",
       "      <td>industry baby</td>\n",
       "      <td>lil nas x &amp; jack harlow</td>\n",
       "      <td>4</td>\n",
       "    </tr>\n",
       "    <tr>\n",
       "      <th>4</th>\n",
       "      <td>smokin out the window</td>\n",
       "      <td>silk sonic (bruno mars &amp; anderson .paak)</td>\n",
       "      <td>5</td>\n",
       "    </tr>\n",
       "  </tbody>\n",
       "</table>\n",
       "</div>"
      ],
      "text/plain": [
       "                              song                                    artist  \\\n",
       "0  all too well (taylor's version)                              taylor swift   \n",
       "1                       easy on me                                     adele   \n",
       "2                             stay             the kid laroi & justin bieber   \n",
       "3                    industry baby                   lil nas x & jack harlow   \n",
       "4            smokin out the window  silk sonic (bruno mars & anderson .paak)   \n",
       "\n",
       "   rank  \n",
       "0     1  \n",
       "1     2  \n",
       "2     3  \n",
       "3     4  \n",
       "4     5  "
      ]
     },
     "execution_count": 5,
     "metadata": {},
     "output_type": "execute_result"
    }
   ],
   "source": [
    "top_hot_100_songs.head()"
   ]
  },
  {
   "cell_type": "code",
   "execution_count": 6,
   "id": "a73e6ed9",
   "metadata": {},
   "outputs": [],
   "source": [
    "# Rank column is not needed\n",
    "\n",
    "top_hot_100_songs.drop(['rank'], axis = 1, inplace = True) "
   ]
  },
  {
   "cell_type": "code",
   "execution_count": 7,
   "id": "ed14e2ac",
   "metadata": {},
   "outputs": [
    {
     "data": {
      "text/html": [
       "<div>\n",
       "<style scoped>\n",
       "    .dataframe tbody tr th:only-of-type {\n",
       "        vertical-align: middle;\n",
       "    }\n",
       "\n",
       "    .dataframe tbody tr th {\n",
       "        vertical-align: top;\n",
       "    }\n",
       "\n",
       "    .dataframe thead th {\n",
       "        text-align: right;\n",
       "    }\n",
       "</style>\n",
       "<table border=\"1\" class=\"dataframe\">\n",
       "  <thead>\n",
       "    <tr style=\"text-align: right;\">\n",
       "      <th></th>\n",
       "      <th>song</th>\n",
       "      <th>artist</th>\n",
       "    </tr>\n",
       "  </thead>\n",
       "  <tbody>\n",
       "    <tr>\n",
       "      <th>0</th>\n",
       "      <td>all too well (taylor's version)</td>\n",
       "      <td>taylor swift</td>\n",
       "    </tr>\n",
       "    <tr>\n",
       "      <th>1</th>\n",
       "      <td>easy on me</td>\n",
       "      <td>adele</td>\n",
       "    </tr>\n",
       "    <tr>\n",
       "      <th>2</th>\n",
       "      <td>stay</td>\n",
       "      <td>the kid laroi &amp; justin bieber</td>\n",
       "    </tr>\n",
       "    <tr>\n",
       "      <th>3</th>\n",
       "      <td>industry baby</td>\n",
       "      <td>lil nas x &amp; jack harlow</td>\n",
       "    </tr>\n",
       "    <tr>\n",
       "      <th>4</th>\n",
       "      <td>smokin out the window</td>\n",
       "      <td>silk sonic (bruno mars &amp; anderson .paak)</td>\n",
       "    </tr>\n",
       "  </tbody>\n",
       "</table>\n",
       "</div>"
      ],
      "text/plain": [
       "                              song                                    artist\n",
       "0  all too well (taylor's version)                              taylor swift\n",
       "1                       easy on me                                     adele\n",
       "2                             stay             the kid laroi & justin bieber\n",
       "3                    industry baby                   lil nas x & jack harlow\n",
       "4            smokin out the window  silk sonic (bruno mars & anderson .paak)"
      ]
     },
     "execution_count": 7,
     "metadata": {},
     "output_type": "execute_result"
    }
   ],
   "source": [
    "top_hot_100_songs.head()"
   ]
  },
  {
   "cell_type": "markdown",
   "id": "72c1ed4f",
   "metadata": {},
   "source": [
    "## Creating a loop to check if song is hot or not"
   ]
  },
  {
   "cell_type": "code",
   "execution_count": 15,
   "id": "0295018c",
   "metadata": {},
   "outputs": [
    {
     "name": "stdout",
     "output_type": "stream",
     "text": [
      "Enter a song or artist: stay\n",
      "You may also like this song:  Blast Off from Luke Combs\n",
      "Thanks for using the music recommender.\n"
     ]
    }
   ],
   "source": [
    "for i in top_hot_100_songs[[\"song\",\"artist\"]].iterrows():\n",
    "    user_input = input(\"Enter a song or artist: \")\n",
    "    if user_input.lower() in list(top_hot_100_songs[\"song\"]):\n",
    "        random_song = random.choice(top_hot_100_songs[\"song\"]).title()\n",
    "        song_artist = top_hot_100_songs.loc[top_hot_100_songs[\"song\"] == random.choice(top_hot_100_songs[\"song\"]), \"artist\"].values[0]\n",
    "        \n",
    "        print(\"You may also like this song: \", random_song, \"from\", song_artist.title())\n",
    "        print(\"Thanks for using the music recommender.\")\n",
    "        break\n",
    "    elif user_input.lower() in list(top_hot_100_songs[\"artist\"]) or top_hot_100_songs[\"artist\"].str.contains(user_input).any():\n",
    "        print(\"You may also like this artist: \", random.choice(top_hot_100_songs[\"artist\"]).title())\n",
    "        print(\"Thanks for using the music recommender.\")\n",
    "        break\n",
    "    elif user_input not in top_hot_100_songs.iterrows():\n",
    "        print(\"Sorry, we can't recommend you any song. Please try with another hot song or artist:\")\n",
    "        continue"
   ]
  },
  {
   "cell_type": "code",
   "execution_count": null,
   "id": "d5d6e94b",
   "metadata": {},
   "outputs": [],
   "source": []
  }
 ],
 "metadata": {
  "kernelspec": {
   "display_name": "Python 3 (ipykernel)",
   "language": "python",
   "name": "python3"
  },
  "language_info": {
   "codemirror_mode": {
    "name": "ipython",
    "version": 3
   },
   "file_extension": ".py",
   "mimetype": "text/x-python",
   "name": "python",
   "nbconvert_exporter": "python",
   "pygments_lexer": "ipython3",
   "version": "3.8.12"
  },
  "toc": {
   "base_numbering": 1,
   "nav_menu": {},
   "number_sections": true,
   "sideBar": true,
   "skip_h1_title": false,
   "title_cell": "Table of Contents",
   "title_sidebar": "Contents",
   "toc_cell": false,
   "toc_position": {},
   "toc_section_display": true,
   "toc_window_display": false
  }
 },
 "nbformat": 4,
 "nbformat_minor": 5
}
